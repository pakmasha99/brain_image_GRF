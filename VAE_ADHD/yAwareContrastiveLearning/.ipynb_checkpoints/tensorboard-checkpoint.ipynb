{
 "cells": [
  {
   "cell_type": "code",
   "execution_count": null,
   "id": "83567ce6-d348-4431-ab02-74abf9443c37",
   "metadata": {},
   "outputs": [],
   "source": [
    "import nersc_tensorboard_helper\n",
    "%load_ext tensorboard"
   ]
  },
  {
   "cell_type": "code",
   "execution_count": null,
   "id": "2ece6d81-75f6-4030-abc2-fed99d4265f1",
   "metadata": {},
   "outputs": [],
   "source": [
    "import nersc_tensorboard_helper\n",
    "%load_ext tensorboard\n",
    "%tensorboard --logdir ./log_220524_BCE_eval"
   ]
  },
  {
   "cell_type": "code",
   "execution_count": null,
   "id": "b4b7c13e-b578-4e3f-bac5-d543e39ed71d",
   "metadata": {},
   "outputs": [],
   "source": [
    "nersc_tensorboard_helper.tb_address()"
   ]
  },
  {
   "cell_type": "code",
   "execution_count": null,
   "id": "1a887b5a-77f7-4b64-85ef-1ef44043b0b5",
   "metadata": {},
   "outputs": [],
   "source": [
    "import nersc_tensorboard_helper\n",
    "%load_ext tensorboard\n",
    "%tensorboard --logdir ./log_220418_wgangp"
   ]
  },
  {
   "cell_type": "code",
   "execution_count": null,
   "id": "74ec4cca-184c-4ca2-99c9-87d1f21137d3",
   "metadata": {},
   "outputs": [],
   "source": [
    "nersc_tensorboard_helper.tb_address()"
   ]
  },
  {
   "cell_type": "code",
   "execution_count": null,
   "id": "eaf35e24-f317-48c9-8f7f-1a048668d8a8",
   "metadata": {},
   "outputs": [],
   "source": [
    "import nersc_tensorboard_helper\n",
    "%load_ext tensorboard\n",
    "%tensorboard --logdir /pscratch/sd/j/junbeom/log_220613_FA_BCE_eval/train"
   ]
  },
  {
   "cell_type": "code",
   "execution_count": null,
   "id": "739015b1-ce35-4dae-b833-eecc6c1eeb8f",
   "metadata": {},
   "outputs": [],
   "source": [
    "nersc_tensorboard_helper.tb_address()"
   ]
  },
  {
   "cell_type": "code",
   "execution_count": 1,
   "id": "40cecd0b-9faf-4c05-8f13-63208588f526",
   "metadata": {},
   "outputs": [
    {
     "data": {
      "text/html": [
       "\n",
       "      <iframe id=\"tensorboard-frame-97fbb5e99b1d3fd1\" width=\"100%\" height=\"800\" frameborder=\"0\">\n",
       "      </iframe>\n",
       "      <script>\n",
       "        (function() {\n",
       "          const frame = document.getElementById(\"tensorboard-frame-97fbb5e99b1d3fd1\");\n",
       "          const url = new URL(\"/\", window.location);\n",
       "          const port = 6006;\n",
       "          if (port) {\n",
       "            url.port = port;\n",
       "          }\n",
       "          frame.src = url;\n",
       "        })();\n",
       "      </script>\n",
       "    "
      ],
      "text/plain": [
       "<IPython.core.display.HTML object>"
      ]
     },
     "metadata": {},
     "output_type": "display_data"
    }
   ],
   "source": [
    "import nersc_tensorboard_helper\n",
    "%load_ext tensorboard\n",
    "%tensorboard --logdir /pscratch/sd/j/junbeom/log_220614_FA_BCE_eval_SGDR/train\n",
    "\n"
   ]
  },
  {
   "cell_type": "code",
   "execution_count": 2,
   "id": "25f12925-bd22-4396-b9df-b9657b6ccdba",
   "metadata": {},
   "outputs": [
    {
     "data": {
      "text/html": [
       "<a href=\"https://jupyter.nersc.gov/user/junbeom/perlmutter-exclusive-node-gpu/proxy/6006/\">https://jupyter.nersc.gov/user/junbeom/perlmutter-exclusive-node-gpu/proxy/6006/</a>"
      ],
      "text/plain": [
       "<IPython.core.display.HTML object>"
      ]
     },
     "metadata": {},
     "output_type": "display_data"
    }
   ],
   "source": [
    "nersc_tensorboard_helper.tb_address()"
   ]
  },
  {
   "cell_type": "code",
   "execution_count": null,
   "id": "53742e80-e31b-4f66-9971-1f9dd3fc2da7",
   "metadata": {},
   "outputs": [],
   "source": []
  }
 ],
 "metadata": {
  "kernelspec": {
   "display_name": "pytorch-1.9.0",
   "language": "python",
   "name": "pytorch-1.9.0"
  },
  "language_info": {
   "codemirror_mode": {
    "name": "ipython",
    "version": 3
   },
   "file_extension": ".py",
   "mimetype": "text/x-python",
   "name": "python",
   "nbconvert_exporter": "python",
   "pygments_lexer": "ipython3",
   "version": "3.8.11"
  }
 },
 "nbformat": 4,
 "nbformat_minor": 5
}
