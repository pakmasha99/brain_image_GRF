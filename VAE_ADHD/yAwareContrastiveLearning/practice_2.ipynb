{
 "cells": [
  {
   "cell_type": "code",
   "execution_count": 1,
   "id": "2fda3567-f412-4b30-9725-93fa2e0f16aa",
   "metadata": {},
   "outputs": [],
   "source": [
    "import pandas as pd\n",
    "import os\n",
    "\n",
    "meta_data = pd.read_csv('/global/cfs/cdirs/m3898/2.UKB/2.demo_qc/UKB_phenotype.csv' )\n",
    "subjects = os.listdir('/global/cfs/cdirs/m3898/2.UKB/1.sMRI_fs_cropped')\n",
    "    \n",
    "# meta_data.loc[subj,] for subj in subjects "
   ]
  },
  {
   "cell_type": "code",
   "execution_count": 6,
   "id": "8cf0797d-6da0-43af-be70-0091aaff42f8",
   "metadata": {},
   "outputs": [
    {
     "data": {
      "text/plain": [
       "0    67.0\n",
       "Name: age, dtype: float64"
      ]
     },
     "execution_count": 6,
     "metadata": {},
     "output_type": "execute_result"
    }
   ],
   "source": [
    "meta_data[meta_data['eid']==1000010]['age']"
   ]
  },
  {
   "cell_type": "code",
   "execution_count": null,
   "id": "c59c6b0a-3d93-4d03-96bd-f652e7e56c7a",
   "metadata": {},
   "outputs": [],
   "source": [
    "[(subj,meta_data[meta_data['eid']==int(subj[:7])]['sex'].values[0]) for subj in subjects]"
   ]
  },
  {
   "cell_type": "code",
   "execution_count": 23,
   "id": "fc5d8144-4a8b-4e0f-b96a-b67f63b8ab67",
   "metadata": {},
   "outputs": [
    {
     "data": {
      "text/plain": [
       "11"
      ]
     },
     "execution_count": 23,
     "metadata": {},
     "output_type": "execute_result"
    }
   ],
   "source": [
    "tup = (4,4,4)\n",
    "def my(x,y,z,u):\n",
    "    return x+y[0]+z+u\n",
    "\n",
    "my(3,tup,2,2)"
   ]
  },
  {
   "cell_type": "code",
   "execution_count": 3,
   "id": "de40325f-14a1-4cd8-b9c8-18bc1fed0efd",
   "metadata": {},
   "outputs": [],
   "source": [
    "import pandas as pd\n",
    "import os\n",
    "import matplotlib.pyplot as plt\n",
    "import seaborn as sns\n",
    "\n",
    "meta_data = pd.read_csv('/global/cfs/cdirs/m3898/2.UKB/2.demo_qc/UKB_phenotype.csv' )\n",
    "subjects = os.listdir('/global/cfs/cdirs/m3898/2.UKB/1.sMRI_fs_cropped')"
   ]
  },
  {
   "cell_type": "code",
   "execution_count": 4,
   "id": "11335457-b02e-45fc-ad54-7bcab1c0ebf0",
   "metadata": {},
   "outputs": [
    {
     "data": {
      "text/plain": [
       "eid                                     0\n",
       "sex                                     1\n",
       "age                                     1\n",
       "income                             453909\n",
       "SuicidalideationPassive            345149\n",
       "SuicidalideationActive_Ever        345149\n",
       "SuicidalideationActive_PastYear    479302\n",
       "SelfHarmed_PastYear                495618\n",
       "SuicideAttempt_Ever                495618\n",
       "SuicideAttempt_PastYear            498925\n",
       "BMI                                456103\n",
       "FID                                 15210\n",
       "IID                                 15210\n",
       "SCORE_auto                          15210\n",
       "fluid                              479903\n",
       "dtype: int64"
      ]
     },
     "execution_count": 4,
     "metadata": {},
     "output_type": "execute_result"
    },
    {
     "data": {
      "image/png": "[encoded data removed]",
      "text/plain": [
       "<Figure size 432x288 with 1 Axes>"
      ]
     },
     "metadata": {
      "needs_background": "light"
     },
     "output_type": "display_data"
    }
   ],
   "source": [
    "%matplotlib inline\n",
    "GPS = pd.read_csv('/global/cfs/cdirs/m3898/2.UKB/2.demo_qc/UKB_Intelligence_EUR_score_phiauto_SUM.txt',sep='\\t' )\n",
    "fluid_intelligence = pd.read_csv('/global/cfs/cdirs/m3898/2.UKB/2.demo_qc/sub_T1_fluid.csv') \n",
    "meta_data = pd.merge(meta_data, GPS, left_on='eid', right_on = 'FID',how = 'left')\n",
    "total = pd.merge(meta_data, fluid_intelligence, left_on='eid', right_on = 'eid',how = 'left')\n",
    "\n",
    "sns.heatmap(total.isnull(), cbar=False)\n",
    "\n",
    "total.isna().sum()"
   ]
  },
  {
   "cell_type": "code",
   "execution_count": 5,
   "id": "dbe35f06-f80a-4898-8c8a-0f978c73cc85",
   "metadata": {},
   "outputs": [
    {
     "data": {
      "text/html": [
       "<div>\n",
       "<style scoped>\n",
       "    .dataframe tbody tr th:only-of-type {\n",
       "        vertical-align: middle;\n",
       "    }\n",
       "\n",
       "    .dataframe tbody tr th {\n",
       "        vertical-align: top;\n",
       "    }\n",
       "\n",
       "    .dataframe thead th {\n",
       "        text-align: right;\n",
       "    }\n",
       "</style>\n",
       "<table border=\"1\" class=\"dataframe\">\n",
       "  <thead>\n",
       "    <tr style=\"text-align: right;\">\n",
       "      <th></th>\n",
       "      <th>eid</th>\n",
       "      <th>sex</th>\n",
       "      <th>age</th>\n",
       "      <th>income</th>\n",
       "      <th>SuicidalideationPassive</th>\n",
       "      <th>SuicidalideationActive_Ever</th>\n",
       "      <th>SuicidalideationActive_PastYear</th>\n",
       "      <th>SelfHarmed_PastYear</th>\n",
       "      <th>SuicideAttempt_Ever</th>\n",
       "      <th>SuicideAttempt_PastYear</th>\n",
       "      <th>BMI</th>\n",
       "      <th>FID</th>\n",
       "      <th>IID</th>\n",
       "      <th>SCORE_auto</th>\n",
       "      <th>fluid</th>\n",
       "    </tr>\n",
       "  </thead>\n",
       "  <tbody>\n",
       "    <tr>\n",
       "      <th>0</th>\n",
       "      <td>1000010</td>\n",
       "      <td>0.0</td>\n",
       "      <td>67.0</td>\n",
       "      <td>NaN</td>\n",
       "      <td>NaN</td>\n",
       "      <td>NaN</td>\n",
       "      <td>NaN</td>\n",
       "      <td>NaN</td>\n",
       "      <td>NaN</td>\n",
       "      <td>NaN</td>\n",
       "      <td>NaN</td>\n",
       "      <td>1000010.0</td>\n",
       "      <td>1000010.0</td>\n",
       "      <td>-0.000002</td>\n",
       "      <td>NaN</td>\n",
       "    </tr>\n",
       "    <tr>\n",
       "      <th>1</th>\n",
       "      <td>1000028</td>\n",
       "      <td>0.0</td>\n",
       "      <td>46.0</td>\n",
       "      <td>NaN</td>\n",
       "      <td>2.0</td>\n",
       "      <td>0.0</td>\n",
       "      <td>NaN</td>\n",
       "      <td>NaN</td>\n",
       "      <td>NaN</td>\n",
       "      <td>NaN</td>\n",
       "      <td>NaN</td>\n",
       "      <td>1000028.0</td>\n",
       "      <td>1000028.0</td>\n",
       "      <td>0.000002</td>\n",
       "      <td>NaN</td>\n",
       "    </tr>\n",
       "    <tr>\n",
       "      <th>2</th>\n",
       "      <td>1000034</td>\n",
       "      <td>0.0</td>\n",
       "      <td>62.0</td>\n",
       "      <td>NaN</td>\n",
       "      <td>NaN</td>\n",
       "      <td>NaN</td>\n",
       "      <td>NaN</td>\n",
       "      <td>NaN</td>\n",
       "      <td>NaN</td>\n",
       "      <td>NaN</td>\n",
       "      <td>NaN</td>\n",
       "      <td>1000034.0</td>\n",
       "      <td>1000034.0</td>\n",
       "      <td>-0.000005</td>\n",
       "      <td>NaN</td>\n",
       "    </tr>\n",
       "    <tr>\n",
       "      <th>3</th>\n",
       "      <td>1000045</td>\n",
       "      <td>0.0</td>\n",
       "      <td>42.0</td>\n",
       "      <td>NaN</td>\n",
       "      <td>NaN</td>\n",
       "      <td>NaN</td>\n",
       "      <td>NaN</td>\n",
       "      <td>NaN</td>\n",
       "      <td>NaN</td>\n",
       "      <td>NaN</td>\n",
       "      <td>NaN</td>\n",
       "      <td>1000045.0</td>\n",
       "      <td>1000045.0</td>\n",
       "      <td>-0.000008</td>\n",
       "      <td>NaN</td>\n",
       "    </tr>\n",
       "    <tr>\n",
       "      <th>4</th>\n",
       "      <td>1000052</td>\n",
       "      <td>1.0</td>\n",
       "      <td>58.0</td>\n",
       "      <td>NaN</td>\n",
       "      <td>2.0</td>\n",
       "      <td>0.0</td>\n",
       "      <td>NaN</td>\n",
       "      <td>NaN</td>\n",
       "      <td>NaN</td>\n",
       "      <td>NaN</td>\n",
       "      <td>NaN</td>\n",
       "      <td>1000052.0</td>\n",
       "      <td>1000052.0</td>\n",
       "      <td>0.000002</td>\n",
       "      <td>NaN</td>\n",
       "    </tr>\n",
       "    <tr>\n",
       "      <th>...</th>\n",
       "      <td>...</td>\n",
       "      <td>...</td>\n",
       "      <td>...</td>\n",
       "      <td>...</td>\n",
       "      <td>...</td>\n",
       "      <td>...</td>\n",
       "      <td>...</td>\n",
       "      <td>...</td>\n",
       "      <td>...</td>\n",
       "      <td>...</td>\n",
       "      <td>...</td>\n",
       "      <td>...</td>\n",
       "      <td>...</td>\n",
       "      <td>...</td>\n",
       "      <td>...</td>\n",
       "    </tr>\n",
       "    <tr>\n",
       "      <th>502481</th>\n",
       "      <td>6025376</td>\n",
       "      <td>1.0</td>\n",
       "      <td>46.0</td>\n",
       "      <td>NaN</td>\n",
       "      <td>NaN</td>\n",
       "      <td>NaN</td>\n",
       "      <td>NaN</td>\n",
       "      <td>NaN</td>\n",
       "      <td>NaN</td>\n",
       "      <td>NaN</td>\n",
       "      <td>NaN</td>\n",
       "      <td>NaN</td>\n",
       "      <td>NaN</td>\n",
       "      <td>NaN</td>\n",
       "      <td>NaN</td>\n",
       "    </tr>\n",
       "    <tr>\n",
       "      <th>502482</th>\n",
       "      <td>6025387</td>\n",
       "      <td>0.0</td>\n",
       "      <td>63.0</td>\n",
       "      <td>NaN</td>\n",
       "      <td>0.0</td>\n",
       "      <td>0.0</td>\n",
       "      <td>NaN</td>\n",
       "      <td>NaN</td>\n",
       "      <td>NaN</td>\n",
       "      <td>NaN</td>\n",
       "      <td>NaN</td>\n",
       "      <td>6025387.0</td>\n",
       "      <td>6025387.0</td>\n",
       "      <td>-0.000006</td>\n",
       "      <td>NaN</td>\n",
       "    </tr>\n",
       "    <tr>\n",
       "      <th>502483</th>\n",
       "      <td>6025391</td>\n",
       "      <td>1.0</td>\n",
       "      <td>68.0</td>\n",
       "      <td>NaN</td>\n",
       "      <td>NaN</td>\n",
       "      <td>NaN</td>\n",
       "      <td>NaN</td>\n",
       "      <td>NaN</td>\n",
       "      <td>NaN</td>\n",
       "      <td>NaN</td>\n",
       "      <td>NaN</td>\n",
       "      <td>6025391.0</td>\n",
       "      <td>6025391.0</td>\n",
       "      <td>0.000006</td>\n",
       "      <td>NaN</td>\n",
       "    </tr>\n",
       "    <tr>\n",
       "      <th>502484</th>\n",
       "      <td>6025400</td>\n",
       "      <td>0.0</td>\n",
       "      <td>67.0</td>\n",
       "      <td>NaN</td>\n",
       "      <td>NaN</td>\n",
       "      <td>NaN</td>\n",
       "      <td>NaN</td>\n",
       "      <td>NaN</td>\n",
       "      <td>NaN</td>\n",
       "      <td>NaN</td>\n",
       "      <td>NaN</td>\n",
       "      <td>6025400.0</td>\n",
       "      <td>6025400.0</td>\n",
       "      <td>-0.000003</td>\n",
       "      <td>NaN</td>\n",
       "    </tr>\n",
       "    <tr>\n",
       "      <th>502485</th>\n",
       "      <td>6025417</td>\n",
       "      <td>NaN</td>\n",
       "      <td>NaN</td>\n",
       "      <td>NaN</td>\n",
       "      <td>NaN</td>\n",
       "      <td>NaN</td>\n",
       "      <td>NaN</td>\n",
       "      <td>NaN</td>\n",
       "      <td>NaN</td>\n",
       "      <td>NaN</td>\n",
       "      <td>NaN</td>\n",
       "      <td>NaN</td>\n",
       "      <td>NaN</td>\n",
       "      <td>NaN</td>\n",
       "      <td>NaN</td>\n",
       "    </tr>\n",
       "  </tbody>\n",
       "</table>\n",
       "<p>502486 rows × 15 columns</p>\n",
       "</div>"
      ],
      "text/plain": [
       "            eid  sex   age  income  SuicidalideationPassive  \\\n",
       "0       1000010  0.0  67.0     NaN                      NaN   \n",
       "1       1000028  0.0  46.0     NaN                      2.0   \n",
       "2       1000034  0.0  62.0     NaN                      NaN   \n",
       "3       1000045  0.0  42.0     NaN                      NaN   \n",
       "4       1000052  1.0  58.0     NaN                      2.0   \n",
       "...         ...  ...   ...     ...                      ...   \n",
       "502481  6025376  1.0  46.0     NaN                      NaN   \n",
       "502482  6025387  0.0  63.0     NaN                      0.0   \n",
       "502483  6025391  1.0  68.0     NaN                      NaN   \n",
       "502484  6025400  0.0  67.0     NaN                      NaN   \n",
       "502485  6025417  NaN   NaN     NaN                      NaN   \n",
       "\n",
       "        SuicidalideationActive_Ever  SuicidalideationActive_PastYear  \\\n",
       "0                               NaN                              NaN   \n",
       "1                               0.0                              NaN   \n",
       "2                               NaN                              NaN   \n",
       "3                               NaN                              NaN   \n",
       "4                               0.0                              NaN   \n",
       "...                             ...                              ...   \n",
       "502481                          NaN                              NaN   \n",
       "502482                          0.0                              NaN   \n",
       "502483                          NaN                              NaN   \n",
       "502484                          NaN                              NaN   \n",
       "502485                          NaN                              NaN   \n",
       "\n",
       "        SelfHarmed_PastYear  SuicideAttempt_Ever  SuicideAttempt_PastYear  \\\n",
       "0                       NaN                  NaN                      NaN   \n",
       "1                       NaN                  NaN                      NaN   \n",
       "2                       NaN                  NaN                      NaN   \n",
       "3                       NaN                  NaN                      NaN   \n",
       "4                       NaN                  NaN                      NaN   \n",
       "...                     ...                  ...                      ...   \n",
       "502481                  NaN                  NaN                      NaN   \n",
       "502482                  NaN                  NaN                      NaN   \n",
       "502483                  NaN                  NaN                      NaN   \n",
       "502484                  NaN                  NaN                      NaN   \n",
       "502485                  NaN                  NaN                      NaN   \n",
       "\n",
       "        BMI        FID        IID  SCORE_auto  fluid  \n",
       "0       NaN  1000010.0  1000010.0   -0.000002    NaN  \n",
       "1       NaN  1000028.0  1000028.0    0.000002    NaN  \n",
       "2       NaN  1000034.0  1000034.0   -0.000005    NaN  \n",
       "3       NaN  1000045.0  1000045.0   -0.000008    NaN  \n",
       "4       NaN  1000052.0  1000052.0    0.000002    NaN  \n",
       "...     ...        ...        ...         ...    ...  \n",
       "502481  NaN        NaN        NaN         NaN    NaN  \n",
       "502482  NaN  6025387.0  6025387.0   -0.000006    NaN  \n",
       "502483  NaN  6025391.0  6025391.0    0.000006    NaN  \n",
       "502484  NaN  6025400.0  6025400.0   -0.000003    NaN  \n",
       "502485  NaN        NaN        NaN         NaN    NaN  \n",
       "\n",
       "[502486 rows x 15 columns]"
      ]
     },
     "execution_count": 5,
     "metadata": {},
     "output_type": "execute_result"
    }
   ],
   "source": [
    "total"
   ]
  },
  {
   "cell_type": "code",
   "execution_count": 6,
   "id": "4dee48f9-0b83-404c-806c-648a8acef854",
   "metadata": {},
   "outputs": [],
   "source": [
    "total.to_csv('/global/cfs/cdirs/m3898/2.UKB/2.demo_qc/UKB_phenotype_gps_included.csv')\n"
   ]
  },
  {
   "cell_type": "markdown",
   "id": "541d2631-286b-4f18-b894-6afea34f571e",
   "metadata": {},
   "source": [
    "# Total data"
   ]
  },
  {
   "cell_type": "code",
   "execution_count": 8,
   "id": "f2da7c4d-1718-4958-93d1-01143f7d2cb9",
   "metadata": {},
   "outputs": [],
   "source": [
    "import pandas as pd\n",
    "import os\n",
    "import numpy as np\n",
    "total= pd.read_csv('/global/cfs/cdirs/m3898/2.UKB/2.demo_qc/UKB_phenotype_gps_included.csv')\n",
    "subjects = os.listdir('/global/cfs/cdirs/m3898/2.UKB/1.sMRI_fs_cropped')"
   ]
  },
  {
   "cell_type": "code",
   "execution_count": 9,
   "id": "618bd9a3-a960-4ac2-8a63-29dfbaa2be3d",
   "metadata": {},
   "outputs": [],
   "source": [
    "subj_meta = [meta_data[meta_data['eid']==int(subj[:7])]['sex'].values[0] for subj in subjects]"
   ]
  },
  {
   "cell_type": "code",
   "execution_count": 12,
   "id": "b0db3252-8ab4-4252-b467-deeaebf00a00",
   "metadata": {},
   "outputs": [
    {
     "data": {
      "text/plain": [
       "sex\n",
       "0.0    22584\n",
       "1.0    20210\n",
       "dtype: int64"
      ]
     },
     "execution_count": 12,
     "metadata": {},
     "output_type": "execute_result"
    },
    {
     "data": {
      "image/png": "[encoded data removed]",
      "text/plain": [
       "<Figure size 432x288 with 1 Axes>"
      ]
     },
     "metadata": {
      "needs_background": "light"
     },
     "output_type": "display_data"
    }
   ],
   "source": [
    "pd.DataFrame({'sex':subj_meta}).hist()\n",
    "pd.DataFrame({'sex':subj_meta}).value_counts()"
   ]
  },
  {
   "cell_type": "code",
   "execution_count": 33,
   "id": "4c45e2fc-465a-4410-9a45-06c263a21931",
   "metadata": {},
   "outputs": [],
   "source": [
    "subj_meta = [meta_data[meta_data['eid']==int(subj[:7])]['age'].values[0] for subj in subjects]"
   ]
  },
  {
   "cell_type": "code",
   "execution_count": 34,
   "id": "bfc92ee9-8ca8-4357-83c8-418c84a2d578",
   "metadata": {},
   "outputs": [
    {
     "data": {
      "text/plain": [
       "0        65.0\n",
       "1        61.0\n",
       "2        51.0\n",
       "3        51.0\n",
       "4        62.0\n",
       "         ... \n",
       "42789    58.0\n",
       "42790    61.0\n",
       "42791    64.0\n",
       "42792    58.0\n",
       "42793    53.0\n",
       "Name: age, Length: 42794, dtype: float64"
      ]
     },
     "execution_count": 34,
     "metadata": {},
     "output_type": "execute_result"
    }
   ],
   "source": [
    "pd.DataFrame({'age':subj_meta})['age']"
   ]
  },
  {
   "cell_type": "code",
   "execution_count": 35,
   "id": "5cf0910a-a87c-4e56-b55b-e9000a00a73b",
   "metadata": {},
   "outputs": [
    {
     "name": "stdout",
     "output_type": "stream",
     "text": [
      "mean: 55.00280413142029 std: 7.54161630730662\n"
     ]
    },
    {
     "data": {
      "image/png": "[encoded data removed]",
      "text/plain": [
       "<Figure size 432x288 with 1 Axes>"
      ]
     },
     "metadata": {
      "needs_background": "light"
     },
     "output_type": "display_data"
    }
   ],
   "source": [
    "pd.DataFrame({'age':subj_meta}).hist()\n",
    "pd.DataFrame({'age':subj_meta}).value_counts()\n",
    "print('mean:',pd.DataFrame({'age':subj_meta}).mean().values[0],'std:',pd.DataFrame({'age':subj_meta}).std().values[0])\n"
   ]
  },
  {
   "cell_type": "code",
   "execution_count": null,
   "id": "f8940ee7-9071-4b19-958e-1ceb19cba45f",
   "metadata": {},
   "outputs": [],
   "source": []
  },
  {
   "cell_type": "code",
   "execution_count": 37,
   "id": "16574211-9643-4028-bd62-1cdb21975e96",
   "metadata": {},
   "outputs": [],
   "source": [
    "subj_meta = [total[total['eid']==int(subj[:7])]['SCORE_auto'].values[0] for subj in subjects]"
   ]
  },
  {
   "cell_type": "code",
   "execution_count": 44,
   "id": "67dfa9e1-9622-4efb-af25-99f97db481a1",
   "metadata": {},
   "outputs": [
    {
     "data": {
      "text/plain": [
       "41677"
      ]
     },
     "execution_count": 44,
     "metadata": {},
     "output_type": "execute_result"
    },
    {
     "data": {
      "image/png": "[encoded data removed]",
      "text/plain": [
       "<Figure size 432x288 with 1 Axes>"
      ]
     },
     "metadata": {
      "needs_background": "light"
     },
     "output_type": "display_data"
    }
   ],
   "source": [
    "#io\n",
    "#fig, axs = plt.subplots(2, 2, subplot_kw=dict(projection=\"polar\"))\n",
    "\n",
    "pd.DataFrame({'SCORE_auto':subj_meta})['SCORE_auto'].dropna().hist()\n",
    "pd.DataFrame({'SCORE_auto':subj_meta})['SCORE_auto'].dropna().count()\n",
    "\n",
    "# totala=total.dropna(subset=['SCORE_auto'])\n",
    "# totala['SCORE_auto'].hist()\n",
    "# totala['SCORE_auto'].std()"
   ]
  },
  {
   "cell_type": "code",
   "execution_count": 30,
   "id": "57a693e9-111f-40e4-b3a3-16ca9b2ebcc8",
   "metadata": {},
   "outputs": [
    {
     "data": {
      "text/plain": [
       "8.095189791325376"
      ]
     },
     "execution_count": 30,
     "metadata": {},
     "output_type": "execute_result"
    },
    {
     "data": {
      "image/png": "[encoded data removed]",
      "text/plain": [
       "<Figure size 432x288 with 1 Axes>"
      ]
     },
     "metadata": {
      "needs_background": "light"
     },
     "output_type": "display_data"
    }
   ],
   "source": [
    "total['age'].hist()\n",
    "total['age'].std()"
   ]
  },
  {
   "cell_type": "code",
   "execution_count": 31,
   "id": "7f3ee1f0-b225-4e96-ae37-9cc752b6c4bc",
   "metadata": {},
   "outputs": [
    {
     "data": {
      "text/plain": [
       "<AxesSubplot:>"
      ]
     },
     "execution_count": 31,
     "metadata": {},
     "output_type": "execute_result"
    },
    {
     "data": {
      "image/png": "[encoded data removed]",
      "text/plain": [
       "<Figure size 432x288 with 1 Axes>"
      ]
     },
     "metadata": {
      "needs_background": "light"
     },
     "output_type": "display_data"
    }
   ],
   "source": [
    "total['sex'].hist()"
   ]
  },
  {
   "cell_type": "code",
   "execution_count": 46,
   "id": "25f5e99e-794c-4203-b3d4-ba47253b9152",
   "metadata": {},
   "outputs": [
    {
     "data": {
      "text/plain": [
       "22583"
      ]
     },
     "execution_count": 46,
     "metadata": {},
     "output_type": "execute_result"
    },
    {
     "data": {
      "image/png": "[encoded data removed]",
      "text/plain": [
       "<Figure size 432x288 with 1 Axes>"
      ]
     },
     "metadata": {
      "needs_background": "light"
     },
     "output_type": "display_data"
    }
   ],
   "source": [
    "subj_meta = [total[total['eid']==int(subj[:7])]['fluid'].values[0] for subj in subjects]\n",
    "\n",
    "pd.DataFrame({'fluid':subj_meta})['fluid'].dropna().hist()\n",
    "pd.DataFrame({'fluid':subj_meta})['fluid'].dropna().count()\n"
   ]
  },
  {
   "cell_type": "code",
   "execution_count": 50,
   "id": "ebb01605-a102-4643-974a-b6aa52ceb0b3",
   "metadata": {},
   "outputs": [
    {
     "data": {
      "text/plain": [
       "fluid    6.638401\n",
       "dtype: float64"
      ]
     },
     "execution_count": 50,
     "metadata": {},
     "output_type": "execute_result"
    }
   ],
   "source": [
    "pd.DataFrame({'fluid':subj_meta}).mean()"
   ]
  },
  {
   "cell_type": "code",
   "execution_count": 51,
   "id": "1a113e1a-2d65-469a-8ff6-acaea0b6feea",
   "metadata": {},
   "outputs": [
    {
     "data": {
      "text/plain": [
       "fluid    2.034696\n",
       "dtype: float64"
      ]
     },
     "execution_count": 51,
     "metadata": {},
     "output_type": "execute_result"
    }
   ],
   "source": [
    "pd.DataFrame({'fluid':subj_meta}).std()"
   ]
  },
  {
   "cell_type": "code",
   "execution_count": 11,
   "id": "c0f79a40-9f74-444d-be7e-8a8514c5ca80",
   "metadata": {},
   "outputs": [
    {
     "ename": "AttributeError",
     "evalue": "'numpy.ndarray' object has no attribute 'hist'",
     "output_type": "error",
     "traceback": [
      "\u001b[0;31m---------------------------------------------------------------------------\u001b[0m",
      "\u001b[0;31mAttributeError\u001b[0m                            Traceback (most recent call last)",
      "\u001b[0;32m/tmp/ipykernel_42950/2351467007.py\u001b[0m in \u001b[0;36m<module>\u001b[0;34m\u001b[0m\n\u001b[1;32m      5\u001b[0m \u001b[0;34m\u001b[0m\u001b[0m\n\u001b[1;32m      6\u001b[0m \u001b[0mscaler\u001b[0m \u001b[0;34m=\u001b[0m \u001b[0mMinMaxScaler\u001b[0m\u001b[0;34m(\u001b[0m\u001b[0;34m)\u001b[0m\u001b[0;34m\u001b[0m\u001b[0;34m\u001b[0m\u001b[0m\n\u001b[0;32m----> 7\u001b[0;31m \u001b[0mscaler\u001b[0m\u001b[0;34m.\u001b[0m\u001b[0mfit_transform\u001b[0m\u001b[0;34m(\u001b[0m\u001b[0mtotala\u001b[0m\u001b[0;34m[\u001b[0m\u001b[0;34m[\u001b[0m\u001b[0;34m'fluid'\u001b[0m\u001b[0;34m]\u001b[0m\u001b[0;34m]\u001b[0m\u001b[0;34m)\u001b[0m\u001b[0;34m.\u001b[0m\u001b[0mhist\u001b[0m\u001b[0;34m(\u001b[0m\u001b[0;34m)\u001b[0m\u001b[0;34m\u001b[0m\u001b[0;34m\u001b[0m\u001b[0m\n\u001b[0m",
      "\u001b[0;31mAttributeError\u001b[0m: 'numpy.ndarray' object has no attribute 'hist'"
     ]
    }
   ],
   "source": [
    "from sklearn.preprocessing import MinMaxScaler\n",
    "\n",
    "\n",
    "\n",
    "totala=total.dropna(subset=['fluid'])\n",
    "# totala['fluid'].hist()\n",
    "# totala['fluid'].std()\n",
    "\n",
    "scaler = MinMaxScaler()\n",
    "output = scaler.fit_transform(totala[['fluid']])\n",
    "\n",
    "plt.hist(ouit)"
   ]
  },
  {
   "cell_type": "markdown",
   "id": "3be06f89-de10-450e-9174-2691a3169a71",
   "metadata": {},
   "source": [
    "### Intelligence gps"
   ]
  },
  {
   "cell_type": "markdown",
   "id": "77de0c19-0c88-4acf-a9d1-5b18d6db5e01",
   "metadata": {},
   "source": [
    "sigma ==5"
   ]
  },
  {
   "cell_type": "code",
   "execution_count": 9,
   "id": "280207e4-324b-4dbd-b762-7516bd3025dd",
   "metadata": {},
   "outputs": [
    {
     "data": {
      "image/png": "[encoded data removed]",
      "text/plain": [
       "<Figure size 432x288 with 2 Axes>"
      ]
     },
     "metadata": {
      "needs_background": "light"
     },
     "output_type": "display_data"
    },
    {
     "data": {
      "image/png": "[encoded data removed]",
      "text/plain": [
       "<Figure size 432x288 with 1 Axes>"
      ]
     },
     "metadata": {
      "needs_background": "light"
     },
     "output_type": "display_data"
    }
   ],
   "source": [
    "from sklearn.metrics.pairwise import rbf_kernel\n",
    "import numpy as np\n",
    "import pandas as pd\n",
    "import matplotlib.pyplot as plt\n",
    "import seaborn as sns\n",
    "total= pd.read_csv('/global/cfs/cdirs/m3898/2.UKB/2.demo_qc/UKB_phenotype_gps_included.csv')\n",
    "total = total.dropna(subset=['SCORE_auto'])\n",
    "\n",
    "\n",
    "all_labels = np.array(total['SCORE_auto'].to_list()[:64] * 2).reshape(-1,1)\n",
    "\n",
    "weights = rbf_kernel(all_labels, all_labels, gamma=1./(2*5**2)) # [2N, 2N] # 0.000005\n",
    "weights = weights * (1 - np.eye(2*64)) # puts 0 on the diagonal\n",
    "\n",
    "sns.heatmap(weights)\n",
    "plt.show()\n",
    "plt.hist(weights)\n",
    "plt.show()"
   ]
  },
  {
   "cell_type": "markdown",
   "id": "9ad200c0-37e6-48f7-ae23-fdf5dca2595d",
   "metadata": {},
   "source": [
    "sigma == 0.000005"
   ]
  },
  {
   "cell_type": "code",
   "execution_count": 10,
   "id": "302371f6-234d-4bef-8cfa-7fb412359e6f",
   "metadata": {},
   "outputs": [
    {
     "data": {
      "image/png": "[encoded data removed]",
      "text/plain": [
       "<Figure size 432x288 with 2 Axes>"
      ]
     },
     "metadata": {
      "needs_background": "light"
     },
     "output_type": "display_data"
    },
    {
     "data": {
      "image/png": "[encoded data removed]",
      "text/plain": [
       "<Figure size 432x288 with 1 Axes>"
      ]
     },
     "metadata": {
      "needs_background": "light"
     },
     "output_type": "display_data"
    }
   ],
   "source": [
    "from sklearn.metrics.pairwise import rbf_kernel\n",
    "import numpy as np\n",
    "import pandas as pd\n",
    "import matplotlib.pyplot as plt\n",
    "total= pd.read_csv('/global/cfs/cdirs/m3898/2.UKB/2.demo_qc/UKB_phenotype_gps_included.csv')\n",
    "total = total.dropna(subset=['SCORE_auto'])\n",
    "\n",
    "\n",
    "all_labels = np.array(total['SCORE_auto'].to_list()[:64] * 2).reshape(-1,1)\n",
    "\n",
    "weights = rbf_kernel(all_labels, all_labels, gamma=1./(2*0.000005**2)) # [2N, 2N] # 0.000005\n",
    "weights = weights * (1 - np.eye(2*64)) # puts 0 on the diagonal\n",
    "plt.hist(weights)\n",
    "\n",
    "sns.heatmap(weights)\n",
    "plt.show()\n",
    "plt.hist(weights)\n",
    "plt.show()"
   ]
  },
  {
   "cell_type": "markdown",
   "id": "da114a3e-f7dc-4156-a75f-a85549e3b992",
   "metadata": {},
   "source": [
    "### Age"
   ]
  },
  {
   "cell_type": "markdown",
   "id": "2e04bc15-57b5-4422-84c3-39edd80e3428",
   "metadata": {},
   "source": [
    "sigma == 5"
   ]
  },
  {
   "cell_type": "code",
   "execution_count": 4,
   "id": "338ff6fc-c392-4179-9b1d-f511978e38f7",
   "metadata": {},
   "outputs": [],
   "source": [
    "# !pip install seaborn"
   ]
  },
  {
   "cell_type": "code",
   "execution_count": 7,
   "id": "ffad9eac-b17d-4678-8012-1c308c6d2f0f",
   "metadata": {},
   "outputs": [
    {
     "data": {
      "image/png": "[encoded data removed]",
      "text/plain": [
       "<Figure size 432x288 with 2 Axes>"
      ]
     },
     "metadata": {
      "needs_background": "light"
     },
     "output_type": "display_data"
    },
    {
     "data": {
      "image/png": "[encoded data removed]",
      "text/plain": [
       "<Figure size 432x288 with 1 Axes>"
      ]
     },
     "metadata": {
      "needs_background": "light"
     },
     "output_type": "display_data"
    }
   ],
   "source": [
    "from sklearn.metrics.pairwise import rbf_kernel\n",
    "import numpy as np\n",
    "import pandas as pd\n",
    "import matplotlib.pyplot as plt\n",
    "import seaborn as sns\n",
    "total= pd.read_csv('/global/cfs/cdirs/m3898/2.UKB/2.demo_qc/UKB_phenotype_gps_included.csv')\n",
    "total = total.dropna(subset=['age'])\n",
    "all_labels = np.array(total['age'].to_list()[:64] * 2).reshape(-1,1)\n",
    "\n",
    "weights = rbf_kernel(all_labels, all_labels, gamma=1./(2*5**2)) # [2N, 2N] #15\n",
    "weights = weights * (1 - np.eye(2*64)) # puts 0 on the diagonal\n",
    "\n",
    "sns.heatmap(weights)\n",
    "plt.show()\n",
    "plt.hist(weights)\n",
    "plt.show()"
   ]
  },
  {
   "cell_type": "markdown",
   "id": "a55a52f1-848b-4f12-ba4f-c7724204b01d",
   "metadata": {},
   "source": [
    "sigma == 15"
   ]
  },
  {
   "cell_type": "code",
   "execution_count": 8,
   "id": "7be1ab9b-88f1-4731-a211-62d072f3f313",
   "metadata": {},
   "outputs": [
    {
     "data": {
      "image/png": "[encoded data removed]",
      "text/plain": [
       "<Figure size 432x288 with 2 Axes>"
      ]
     },
     "metadata": {
      "needs_background": "light"
     },
     "output_type": "display_data"
    },
    {
     "data": {
      "image/png": "[encoded data removed]",
      "text/plain": [
       "<Figure size 432x288 with 1 Axes>"
      ]
     },
     "metadata": {
      "needs_background": "light"
     },
     "output_type": "display_data"
    }
   ],
   "source": [
    "from sklearn.metrics.pairwise import rbf_kernel\n",
    "import numpy as np\n",
    "import pandas as pd\n",
    "import matplotlib.pyplot as plt\n",
    "total= pd.read_csv('/global/cfs/cdirs/m3898/2.UKB/2.demo_qc/UKB_phenotype_gps_included.csv')\n",
    "total = total.dropna(subset=['age'])\n",
    "all_labels = np.array(total['age'].to_list()[:64] * 2).reshape(-1,1)\n",
    "\n",
    "weights = rbf_kernel(all_labels, all_labels, gamma=1./(2*15**2)) # [2N, 2N] #15\n",
    "weights = weights * (1 - np.eye(2*64)) # puts 0 on the diagonal\n",
    "\n",
    "\n",
    "sns.heatmap(weights)\n",
    "plt.show()\n",
    "plt.hist(weights)\n",
    "plt.show()"
   ]
  },
  {
   "cell_type": "markdown",
   "id": "a1573cb2-abb3-44fa-a563-f6aae5e43ee2",
   "metadata": {},
   "source": [
    "### sex"
   ]
  },
  {
   "cell_type": "code",
   "execution_count": 25,
   "id": "bc1478d2-b609-46ef-a147-8461a7cfbe99",
   "metadata": {},
   "outputs": [
    {
     "data": {
      "image/png": "[encoded data removed]",
      "text/plain": [
       "<Figure size 432x288 with 2 Axes>"
      ]
     },
     "metadata": {
      "needs_background": "light"
     },
     "output_type": "display_data"
    },
    {
     "data": {
      "image/png": "[encoded data removed]",
      "text/plain": [
       "<Figure size 432x288 with 1 Axes>"
      ]
     },
     "metadata": {
      "needs_background": "light"
     },
     "output_type": "display_data"
    },
    {
     "data": {
      "text/plain": [
       "array([[0.        , 1.        , 1.        , ..., 0.13533528, 1.        ,\n",
       "        0.13533528],\n",
       "       [1.        , 0.        , 1.        , ..., 0.13533528, 1.        ,\n",
       "        0.13533528],\n",
       "       [1.        , 1.        , 0.        , ..., 0.13533528, 1.        ,\n",
       "        0.13533528],\n",
       "       ...,\n",
       "       [0.13533528, 0.13533528, 0.13533528, ..., 0.        , 0.13533528,\n",
       "        1.        ],\n",
       "       [1.        , 1.        , 1.        , ..., 0.13533528, 0.        ,\n",
       "        0.13533528],\n",
       "       [0.13533528, 0.13533528, 0.13533528, ..., 1.        , 0.13533528,\n",
       "        0.        ]])"
      ]
     },
     "execution_count": 25,
     "metadata": {},
     "output_type": "execute_result"
    }
   ],
   "source": [
    "from sklearn.metrics.pairwise import rbf_kernel\n",
    "import numpy as np\n",
    "import pandas as pd\n",
    "import matplotlib.pyplot as plt\n",
    "\n",
    "total= pd.read_csv('/global/cfs/cdirs/m3898/2.UKB/2.demo_qc/UKB_phenotype_gps_included.csv')\n",
    "total = total.dropna(subset=['sex'])\n",
    "all_labels = np.array(total['sex'].to_list()[:64] * 2).reshape(-1,1)\n",
    "\n",
    "weights = rbf_kernel(all_labels, all_labels, gamma=1./(2*0.5**2)) # [2N, 2N] #15\n",
    "weights = weights * (1 - np.eye(2*64)) # puts 0 on the diagonal\n",
    "sns.heatmap(weights)\n",
    "plt.show()\n",
    "plt.hist(weights)\n",
    "plt.show()\n",
    "weights\n",
    "# 커널의 sigma에 따라 값이 다르게 나옴."
   ]
  },
  {
   "cell_type": "code",
   "execution_count": 27,
   "id": "87dc0167-a088-454e-bf99-33781bff6517",
   "metadata": {},
   "outputs": [
    {
     "data": {
      "image/png": "[encoded data removed]",
      "text/plain": [
       "<Figure size 432x288 with 2 Axes>"
      ]
     },
     "metadata": {
      "needs_background": "light"
     },
     "output_type": "display_data"
    },
    {
     "data": {
      "image/png": "[encoded data removed]",
      "text/plain": [
       "<Figure size 432x288 with 1 Axes>"
      ]
     },
     "metadata": {
      "needs_background": "light"
     },
     "output_type": "display_data"
    },
    {
     "data": {
      "text/plain": [
       "array([[0., 0., 0., 0., 1., 0., 1.],\n",
       "       [0., 0., 0., 0., 1., 0., 1.],\n",
       "       [0., 0., 0., 0., 1., 0., 1.],\n",
       "       [0., 0., 0., 0., 1., 0., 1.],\n",
       "       [1., 1., 1., 1., 0., 1., 0.],\n",
       "       [0., 0., 0., 0., 1., 0., 1.],\n",
       "       [1., 1., 1., 1., 0., 1., 0.]])"
      ]
     },
     "execution_count": 27,
     "metadata": {},
     "output_type": "execute_result"
    }
   ],
   "source": [
    "# XOR로 구현하기\n",
    "\n",
    "def XOR (a, b):\n",
    "    assert len(a) == len(b)\n",
    "    return np.array([[1 if i != j else 0 for i in a ] for j in b])\n",
    "    \n",
    "weights = XOR(all_labels, all_labels) # [2N, 2N] #15\n",
    "weights = weights * (1 - np.eye(2*64)) # puts 0 on the diagonal\n",
    "sns.heatmap(weights)\n",
    "plt.show()\n",
    "plt.hist(weights)\n",
    "plt.show()\n",
    "weights[:7,:7]    "
   ]
  },
  {
   "cell_type": "code",
   "execution_count": 94,
   "id": "825615c7-5b05-4fdb-8607-944afbf43c61",
   "metadata": {},
   "outputs": [
    {
     "data": {
      "text/plain": [
       "array([[0],\n",
       "       [0],\n",
       "       [0],\n",
       "       [0],\n",
       "       [1],\n",
       "       [0],\n",
       "       [1],\n",
       "       [0],\n",
       "       [0],\n",
       "       [0],\n",
       "       [1],\n",
       "       [0],\n",
       "       [1],\n",
       "       [0],\n",
       "       [0],\n",
       "       [0],\n",
       "       [1],\n",
       "       [1],\n",
       "       [0],\n",
       "       [1],\n",
       "       [1],\n",
       "       [0],\n",
       "       [0],\n",
       "       [0],\n",
       "       [0],\n",
       "       [0],\n",
       "       [0],\n",
       "       [1],\n",
       "       [1],\n",
       "       [0],\n",
       "       [0],\n",
       "       [1],\n",
       "       [0],\n",
       "       [0],\n",
       "       [0],\n",
       "       [1],\n",
       "       [0],\n",
       "       [1],\n",
       "       [1],\n",
       "       [1],\n",
       "       [1],\n",
       "       [1],\n",
       "       [0],\n",
       "       [1],\n",
       "       [0],\n",
       "       [0],\n",
       "       [0],\n",
       "       [1],\n",
       "       [1],\n",
       "       [0],\n",
       "       [0],\n",
       "       [0],\n",
       "       [0],\n",
       "       [1],\n",
       "       [0],\n",
       "       [1],\n",
       "       [1],\n",
       "       [0],\n",
       "       [0],\n",
       "       [0],\n",
       "       [1],\n",
       "       [1],\n",
       "       [0],\n",
       "       [1],\n",
       "       [0],\n",
       "       [0],\n",
       "       [0],\n",
       "       [0],\n",
       "       [1],\n",
       "       [0],\n",
       "       [1],\n",
       "       [0],\n",
       "       [0],\n",
       "       [0],\n",
       "       [1],\n",
       "       [0],\n",
       "       [1],\n",
       "       [0],\n",
       "       [0],\n",
       "       [0],\n",
       "       [1],\n",
       "       [1],\n",
       "       [0],\n",
       "       [1],\n",
       "       [1],\n",
       "       [0],\n",
       "       [0],\n",
       "       [0],\n",
       "       [0],\n",
       "       [0],\n",
       "       [0],\n",
       "       [1],\n",
       "       [1],\n",
       "       [0],\n",
       "       [0],\n",
       "       [1],\n",
       "       [0],\n",
       "       [0],\n",
       "       [0],\n",
       "       [1],\n",
       "       [0],\n",
       "       [1],\n",
       "       [1],\n",
       "       [1],\n",
       "       [1],\n",
       "       [1],\n",
       "       [0],\n",
       "       [1],\n",
       "       [0],\n",
       "       [0],\n",
       "       [0],\n",
       "       [1],\n",
       "       [1],\n",
       "       [0],\n",
       "       [0],\n",
       "       [0],\n",
       "       [0],\n",
       "       [1],\n",
       "       [0],\n",
       "       [1],\n",
       "       [1],\n",
       "       [0],\n",
       "       [0],\n",
       "       [0],\n",
       "       [1],\n",
       "       [1],\n",
       "       [0],\n",
       "       [1]])"
      ]
     },
     "execution_count": 94,
     "metadata": {},
     "output_type": "execute_result"
    }
   ],
   "source": [
    "from sklearn.metrics.pairwise import rbf_kernel\n",
    "import numpy as np\n",
    "import pandas as pd\n",
    "import matplotlib.pyplot as plt\n",
    "total= pd.read_csv('/global/cfs/cdirs/m3898/2.UKB/2.demo_qc/UKB_phenotype_gps_included.csv')\n",
    "total = total.dropna(subset=['sex'])\n",
    "all_labels = np.array(total['sex'].to_list()[:64] * 2).reshape(-1,1).astype(int)\n",
    "all_labels @ all_labels.T\n",
    "all_labels "
   ]
  },
  {
   "cell_type": "markdown",
   "id": "a1cf6ca8-6f32-4338-a607-52aec856be92",
   "metadata": {},
   "source": [
    "### Intelligence"
   ]
  },
  {
   "cell_type": "code",
   "execution_count": 2,
   "id": "9f840beb-1354-42f5-b246-92b39b1e8bbb",
   "metadata": {},
   "outputs": [
    {
     "data": {
      "image/png": "[encoded data removed]",
      "text/plain": [
       "<Figure size 432x288 with 2 Axes>"
      ]
     },
     "metadata": {
      "needs_background": "light"
     },
     "output_type": "display_data"
    },
    {
     "data": {
      "image/png": "[encoded data removed]",
      "text/plain": [
       "<Figure size 432x288 with 1 Axes>"
      ]
     },
     "metadata": {
      "needs_background": "light"
     },
     "output_type": "display_data"
    },
    {
     "data": {
      "text/plain": [
       "array([[0.        , 0.0285655 , 0.8007374 , ..., 0.8007374 , 0.41111229,\n",
       "        0.41111229],\n",
       "       [0.0285655 , 0.        , 0.13533528, ..., 0.13533528, 0.41111229,\n",
       "        0.41111229],\n",
       "       [0.8007374 , 0.13533528, 0.        , ..., 1.        , 0.8007374 ,\n",
       "        0.8007374 ],\n",
       "       ...,\n",
       "       [0.8007374 , 0.13533528, 1.        , ..., 0.        , 0.8007374 ,\n",
       "        0.8007374 ],\n",
       "       [0.41111229, 0.41111229, 0.8007374 , ..., 0.8007374 , 0.        ,\n",
       "        1.        ],\n",
       "       [0.41111229, 0.41111229, 0.8007374 , ..., 0.8007374 , 1.        ,\n",
       "        0.        ]])"
      ]
     },
     "execution_count": 2,
     "metadata": {},
     "output_type": "execute_result"
    }
   ],
   "source": [
    "from sklearn.metrics.pairwise import rbf_kernel\n",
    "import seaborn as sns\n",
    "import numpy as np\n",
    "import pandas as pd\n",
    "import matplotlib.pyplot as plt\n",
    "\n",
    "total= pd.read_csv('/global/cfs/cdirs/m3898/2.UKB/2.demo_qc/UKB_phenotype_gps_included.csv')\n",
    "total = total.dropna(subset=['fluid'])\n",
    "all_labels = np.array(total['fluid'].to_list()[:64] * 2).reshape(-1,1)\n",
    "\n",
    "weights = rbf_kernel(all_labels, all_labels, gamma=1./(2*3**2)) # [2N, 2N] #15\n",
    "weights = weights * (1 - np.eye(2*64)) # puts 0 on the diagonal\n",
    "sns.heatmap(weights)\n",
    "plt.show()\n",
    "plt.hist(weights)\n",
    "plt.show()\n",
    "weights\n",
    "# 커널의 sigma에 따라 값이 다르게 나옴."
   ]
  },
  {
   "cell_type": "code",
   "execution_count": null,
   "id": "6799adeb-64f8-469a-9d78-1462f22a5a1e",
   "metadata": {},
   "outputs": [],
   "source": []
  },
  {
   "cell_type": "code",
   "execution_count": null,
   "id": "c3eaddba-c423-43fc-86ff-253e393c7388",
   "metadata": {},
   "outputs": [],
   "source": []
  },
  {
   "cell_type": "code",
   "execution_count": null,
   "id": "9c383af5-e8df-4a84-8162-19a29968c2fb",
   "metadata": {},
   "outputs": [],
   "source": []
  },
  {
   "cell_type": "code",
   "execution_count": 4,
   "id": "3372e384-a002-4b66-aa8f-e3110f4055d8",
   "metadata": {},
   "outputs": [],
   "source": [
    "import torch\n",
    "import torch.nn.functional as func\n",
    "z_i = torch.randn(3,5)\n",
    "z_j = torch.randn(3,5)"
   ]
  },
  {
   "cell_type": "code",
   "execution_count": 8,
   "id": "6bdf658e-0857-433e-84ba-f6804dae8bb6",
   "metadata": {},
   "outputs": [
    {
     "data": {
      "text/plain": [
       "tensor([[-1.0000e+08, -2.2783e+00, -3.1813e+00],\n",
       "        [-2.2783e+00, -1.0000e+08, -6.5691e+00],\n",
       "        [-3.1813e+00, -6.5691e+00, -1.0000e+08]])"
      ]
     },
     "execution_count": 8,
     "metadata": {},
     "output_type": "execute_result"
    }
   ],
   "source": [
    "sim_zii"
   ]
  },
  {
   "cell_type": "code",
   "execution_count": 9,
   "id": "e1c640c2-aa09-49a4-ad39-e42ffd858fcd",
   "metadata": {},
   "outputs": [
    {
     "data": {
      "text/plain": [
       "tensor([[-1.0000e+08,  3.4303e+00, -1.8894e+00],\n",
       "        [ 3.4303e+00, -1.0000e+08, -8.0800e+00],\n",
       "        [-1.8894e+00, -8.0800e+00, -1.0000e+08]])"
      ]
     },
     "execution_count": 9,
     "metadata": {},
     "output_type": "execute_result"
    }
   ],
   "source": [
    "sim_zjj"
   ]
  },
  {
   "cell_type": "code",
   "execution_count": 10,
   "id": "5f3bbc1f-425d-4340-96fb-75b14aba3d3f",
   "metadata": {},
   "outputs": [
    {
     "data": {
      "text/plain": [
       "tensor([0, 1, 2])"
      ]
     },
     "execution_count": 10,
     "metadata": {},
     "output_type": "execute_result"
    }
   ],
   "source": [
    "correct_pairs"
   ]
  },
  {
   "cell_type": "code",
   "execution_count": 26,
   "id": "f90ea6ad-945d-44b3-ae7c-f9e0a926591c",
   "metadata": {},
   "outputs": [
    {
     "data": {
      "text/plain": [
       "tensor(-3.0000e+08)"
      ]
     },
     "execution_count": 26,
     "metadata": {},
     "output_type": "execute_result"
    }
   ],
   "source": [
    "func.log_softmax((torch.cat([sim_zij, sim_zii], dim=1)),dim=0).sum()"
   ]
  },
  {
   "cell_type": "code",
   "execution_count": 29,
   "id": "035964be-143f-46c0-8463-31701dc4ac62",
   "metadata": {},
   "outputs": [
    {
     "data": {
      "text/plain": [
       "tensor([[-7.2409e-01,  1.7169e+00, -2.3098e+00, -1.0000e+08, -2.2783e+00,\n",
       "         -3.1813e+00],\n",
       "        [-7.0058e+00, -6.1946e+00,  1.5273e+00, -2.2783e+00, -1.0000e+08,\n",
       "         -6.5691e+00],\n",
       "        [ 6.0303e+00,  9.1974e-01,  3.8624e+00, -3.1813e+00, -6.5691e+00,\n",
       "         -1.0000e+08]])"
      ]
     },
     "execution_count": 29,
     "metadata": {},
     "output_type": "execute_result"
    }
   ],
   "source": [
    "torch.cat([sim_zij, sim_zii], dim=1)"
   ]
  },
  {
   "cell_type": "code",
   "execution_count": 36,
   "id": "72e41997-6bcf-407b-a426-37d888db46b5",
   "metadata": {},
   "outputs": [
    {
     "data": {
      "text/plain": [
       "tensor(-21.5587)"
      ]
     },
     "execution_count": 36,
     "metadata": {},
     "output_type": "execute_result"
    }
   ],
   "source": [
    "torch.log(torch.exp(torch.tensor([-7.2409e-01,-6.1946e+00,3.8624e+00]))/torch.exp(torch.cat([sim_zij, sim_zii], dim=1)).sum()).sum()"
   ]
  },
  {
   "cell_type": "code",
   "execution_count": 11,
   "id": "c9d373c0-b2ad-4336-83bf-fcf0c7e6f56d",
   "metadata": {},
   "outputs": [
    {
     "data": {
      "text/plain": [
       "tensor(4.1968)"
      ]
     },
     "execution_count": 11,
     "metadata": {},
     "output_type": "execute_result"
    }
   ],
   "source": [
    "func.cross_entropy(torch.cat([sim_zij, sim_zii], dim=1), correct_pairs)"
   ]
  },
  {
   "cell_type": "code",
   "execution_count": 51,
   "id": "49ca6726-cc0c-448e-a12b-cd15d6dad5ca",
   "metadata": {},
   "outputs": [],
   "source": [
    "INF = 1e8\n",
    "\n",
    "N = len(z_i)\n",
    "z_i = func.normalize(z_i, p=2, dim=-1) # dim [N, D]\n",
    "z_j = func.normalize(z_j, p=2, dim=-1) # dim [N, D]\n",
    "sim_zii= (z_i @ z_i.T) / temperature # dim [N, N] => Upper triangle contains incorrect pairs\n",
    "sim_zjj = (z_j @ z_j.T) / temperature # dim [N, N] => Upper triangle contains incorrect pairs\n",
    "sim_zij = (z_i @ z_j.T) / temperature # dim [N, N] => the diag contains the correct pairs (i,j) (x transforms via T_i and T_j)\n",
    "# 'Remove' the diag terms by penalizing it (exp(-inf) = 0)\n",
    "sim_zii = sim_zii - INF * torch.eye(N, device=z_i.device)\n",
    "sim_zjj = sim_zjj - INF * torch.eye(N, device=z_i.device)\n",
    "\n",
    "correct_pairs = torch.arange(N, device=z_i.device).long()\n",
    "loss_i = func.cross_entropy(torch.cat([sim_zij, sim_zii], dim=1), correct_pairs)\n",
    "loss_j = func.cross_entropy(torch.cat([sim_zij.T, sim_zjj], dim=1), correct_pairs)"
   ]
  },
  {
   "cell_type": "code",
   "execution_count": 52,
   "id": "9ca9158d-e5fe-4c23-88e4-faff0801ea19",
   "metadata": {},
   "outputs": [
    {
     "data": {
      "text/plain": [
       "tensor([[    nan,  0.5405,     nan,     nan,     nan,     nan],\n",
       "        [    nan,     nan,  0.4235,     nan,     nan,     nan],\n",
       "        [ 1.7968, -0.0837,  1.3513,     nan,     nan,     nan]])"
      ]
     },
     "execution_count": 52,
     "metadata": {},
     "output_type": "execute_result"
    }
   ],
   "source": [
    "torch.log(torch.cat([sim_zij, sim_zii], dim=1))"
   ]
  },
  {
   "cell_type": "code",
   "execution_count": 47,
   "id": "f77fcd11-6d03-4db3-94ad-3d8d5b16be18",
   "metadata": {},
   "outputs": [
    {
     "data": {
      "text/plain": [
       "tensor(4.1968)"
      ]
     },
     "execution_count": 47,
     "metadata": {},
     "output_type": "execute_result"
    }
   ],
   "source": [
    "\n",
    "func.cross_entropy(torch.cat([sim_zij, sim_zii], dim=1), correct_pairs)"
   ]
  },
  {
   "cell_type": "code",
   "execution_count": null,
   "id": "bc65226b-14ae-436e-9fd3-859e378dee14",
   "metadata": {},
   "outputs": [],
   "source": []
  },
  {
   "cell_type": "code",
   "execution_count": 45,
   "id": "96de4dcf-87ea-4a63-befa-6c02c9bf4a2e",
   "metadata": {},
   "outputs": [
    {
     "data": {
      "text/plain": [
       "tensor([[    nan,  0.5405,     nan,     nan,     nan,     nan],\n",
       "        [    nan,     nan,  0.4235,     nan,     nan,     nan],\n",
       "        [ 1.7968, -0.0837,  1.3513,     nan,     nan,     nan]])"
      ]
     },
     "execution_count": 45,
     "metadata": {},
     "output_type": "execute_result"
    }
   ],
   "source": [
    "torch.log(torch.cat([sim_zij, sim_zii], dim=1))"
   ]
  },
  {
   "cell_type": "code",
   "execution_count": 41,
   "id": "2a91e0ed-6f60-44dd-87d8-b87dd2d34e68",
   "metadata": {},
   "outputs": [],
   "source": [
    "kernel = lambda y1, y2: rbf_kernel(y1, y2, gamma=1./(2*self.sigma**2))\n",
    "\n",
    "z_i = func.normalize(z_i, p=2, dim=-1) # dim [N, D]\n",
    "z_j = func.normalize(z_j, p=2, dim=-1) # dim [N, D]\n",
    "sim_zii= (z_i @ z_i.T) / temperature # dim [N, N] => Upper triangle contains incorrect pairs\n",
    "sim_zjj = (z_j @ z_j.T) / temperature # dim [N, N] => Upper triangle contains incorrect pairs\n",
    "sim_zij = (z_i @ z_j.T) / temperature # dim [N, N] => the diag contains the correct pairs (i,j) (x transforms via T_i and T_j)\n",
    "# 'Remove' the diag terms by penalizing it (exp(-inf) = 0)\n",
    "sim_zii = sim_zii - INF * torch.eye(N, device=z_i.device)\n",
    "sim_zjj = sim_zjj - INF * torch.eye(N, device=z_i.device)\n",
    "\n",
    "# all_labels = labels.view(N, -1).repeat(2, 1).detach().cpu().numpy() # [2N, *]\n",
    "# weights = kernel(all_labels, all_labels) # [2N, 2N]\n",
    "# weights = weights * (1 - np.eye(2*N)) # puts 0 on the diagonal\n",
    "# weights /= weights.sum(axis=1)\n",
    "# if 'rbf' kernel and sigma->0, we retrieve the classical NTXenLoss (without labels)\n",
    "\n",
    "\n",
    "sim_Z = torch.cat([torch.cat([sim_zii, sim_zij], dim=1), torch.cat([sim_zij.T, sim_zjj], dim=1)], dim=0) # [2N, 2N]\n",
    "log_sim_Z = func.log_softmax(sim_Z, dim=1)\n",
    "\n",
    "#loss = -1./N * (torch.from_numpy(weights).to(z_i.device) * log_sim_Z).sum()\n",
    "\n",
    "#correct_pairs = torch.arange(N, device=z_i.device).long()"
   ]
  },
  {
   "cell_type": "code",
   "execution_count": 39,
   "id": "f15ab1c3-4ca4-45e1-93a4-2e2dca48acd6",
   "metadata": {},
   "outputs": [
    {
     "data": {
      "text/plain": [
       "tensor([[-1.0000e+08, -4.1181e+00, -5.0211e+00, -2.5639e+00, -1.2290e-01,\n",
       "         -4.1496e+00],\n",
       "        [-3.8286e+00, -1.0000e+08, -8.1194e+00, -8.5561e+00, -7.7448e+00,\n",
       "         -2.2924e-02],\n",
       "        [-9.3254e+00, -1.2713e+01, -1.0000e+08, -1.1382e-01, -5.2244e+00,\n",
       "         -2.2817e+00],\n",
       "        [-6.8275e+00, -1.3109e+01, -7.3072e-02, -1.0000e+08, -2.6730e+00,\n",
       "         -7.9928e+00],\n",
       "        [-1.9458e+00, -9.8572e+00, -2.7429e+00, -2.3233e-01, -1.0000e+08,\n",
       "         -1.1743e+01],\n",
       "        [-6.2694e+00, -2.4322e+00, -9.7196e-02, -5.8490e+00, -1.2040e+01,\n",
       "         -1.0000e+08]])"
      ]
     },
     "execution_count": 39,
     "metadata": {},
     "output_type": "execute_result"
    }
   ],
   "source": [
    "log_sim_Z"
   ]
  },
  {
   "cell_type": "code",
   "execution_count": 3,
   "id": "6d3f318d-d323-46bc-b904-0cc4a7fbf47e",
   "metadata": {},
   "outputs": [
    {
     "name": "stderr",
     "output_type": "stream",
     "text": [
      "usage: ipykernel_launcher.py [-h] [--label_name {age,sex,intelligence_gps}]\n",
      "ipykernel_launcher.py: error: unrecognized arguments: -f /tmp/jupyter-runtime-3e706b09-0ff0-4292-8d0a-e7edf51614fc/kernel-3e839b2f-e49f-4f54-bd08-79bcda22a4e7.json\n"
     ]
    },
    {
     "ename": "SystemExit",
     "evalue": "2",
     "output_type": "error",
     "traceback": [
      "An exception has occurred, use %tb to see the full traceback.\n",
      "\u001b[0;31mSystemExit\u001b[0m\u001b[0;31m:\u001b[0m 2\n"
     ]
    }
   ],
   "source": [
    "import argparse\n",
    "if __name__ == \"__main__\":\n",
    "    parser = argparse.ArgumentParser()\n",
    "    parser.add_argument(\"--label_name\", type=str, default = 'age', choices= ['age', 'sex', 'intelligence_gps'], help=\"target meta info\")\n",
    "    args = parser.parse_args()"
   ]
  },
  {
   "cell_type": "code",
   "execution_count": 7,
   "id": "01c38e0f-7310-4172-aa62-d20d10c184f9",
   "metadata": {},
   "outputs": [
    {
     "name": "stderr",
     "output_type": "stream",
     "text": [
      "usage: ipykernel_launcher.py [-h] [--optional [OPTION [OPTION ...]]]\n",
      "                             filename [filename ...]\n",
      "ipykernel_launcher.py: error: unrecognized arguments: -f\n"
     ]
    },
    {
     "ename": "SystemExit",
     "evalue": "2",
     "output_type": "error",
     "traceback": [
      "An exception has occurred, use %tb to see the full traceback.\n",
      "\u001b[0;31mSystemExit\u001b[0m\u001b[0;31m:\u001b[0m 2\n"
     ]
    }
   ],
   "source": [
    "import argparse  \n",
    "\n",
    "def main(filename_list, option_list):\n",
    "    \"\"\"\n",
    "    메인 함수\n",
    "    \"\"\"\n",
    "    print('Target File : {}'.format(filename_list))\n",
    "    print('Optional : {}'.format(option_list))\n",
    "\n",
    "\n",
    "def get_arguments():\n",
    "    \"\"\"\n",
    "    argument를 파싱해서 가져옴\n",
    "    \"\"\"\n",
    "    parser = argparse.ArgumentParser()\n",
    "    parser.add_argument(nargs='+' ,help='Example) index.html', dest='filename')\n",
    "    parser.add_argument('--optional', '-o', nargs='*', help='Example) save', default=[], dest='option')\n",
    "\n",
    "    filename_list = parser.parse_args().filename\n",
    "    option_list = parser.parse_args().option\n",
    "\n",
    "    return filename_list, option_list\n",
    "\n",
    "\n",
    "if __name__ == '__main__':\n",
    "    filename_list, option_list = get_arguments()\n",
    "    main(filename_list, option_list)"
   ]
  },
  {
   "cell_type": "code",
   "execution_count": null,
   "id": "dede3dd9-4168-4b51-9ae8-952742be1da0",
   "metadata": {},
   "outputs": [],
   "source": []
  }
 ],
 "metadata": {
  "kernelspec": {
   "display_name": "3DCNN",
   "language": "python",
   "name": "3dcnn"
  },
  "language_info": {
   "codemirror_mode": {
    "name": "ipython",
    "version": 3
   },
   "file_extension": ".py",
   "mimetype": "text/x-python",
   "name": "python",
   "nbconvert_exporter": "python",
   "pygments_lexer": "ipython3",
   "version": "3.9.7"
  }
 },
 "nbformat": 4,
 "nbformat_minor": 5
}
