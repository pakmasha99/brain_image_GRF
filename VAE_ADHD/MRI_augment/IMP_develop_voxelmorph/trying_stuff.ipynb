{
 "cells": [
  {
   "cell_type": "code",
   "execution_count": 2,
   "id": "9203fad2",
   "metadata": {},
   "outputs": [
    {
     "data": {
      "text/html": [
       "<style>.container { width:100% !important; }</style>"
      ],
      "text/plain": [
       "<IPython.core.display.HTML object>"
      ]
     },
     "metadata": {},
     "output_type": "display_data"
    }
   ],
   "source": [
    "from IPython.display import display, HTML\n",
    "display(HTML(\"<style>.container { width:100% !important; }</style>\"))"
   ]
  },
  {
   "cell_type": "code",
   "execution_count": 3,
   "id": "deec9d1e",
   "metadata": {},
   "outputs": [],
   "source": [
    "import os \n",
    "import torch \n",
    "import pandas as pd \n",
    "import numpy as np"
   ]
  },
  {
   "cell_type": "code",
   "execution_count": 4,
   "id": "afc28477",
   "metadata": {},
   "outputs": [],
   "source": [
    "nb_features = [\n",
    "    [32, 32, 32, 32],         # encoder features\n",
    "    [32, 32, 32, 32, 32, 16]  # decoder features\n",
    "]\n",
    "\n",
    "inshape = [99,117,95]"
   ]
  },
  {
   "cell_type": "code",
   "execution_count": 5,
   "id": "e77079ad",
   "metadata": {},
   "outputs": [],
   "source": [
    "!export VXM_BACKEND=pytorch #pytorch로 backend하기?? (큰 효과는 없는 듯)\n",
    "#이것이 안되서 __init__에서 그냥 애초에 pytorch로 강제로 backend를 만듬"
   ]
  },
  {
   "cell_type": "markdown",
   "id": "e260c021",
   "metadata": {},
   "source": [
    "see : https://colab.research.google.com/drive/1MP5nIv1wX9of2A8Ku5JwZjOv7iThNIVT#scrollTo=mWxc3w9rR7J9&uniqifier=2\n",
    "\n"
   ]
  },
  {
   "cell_type": "code",
   "execution_count": 6,
   "id": "cfc6ef83",
   "metadata": {},
   "outputs": [
    {
     "name": "stderr",
     "output_type": "stream",
     "text": [
      "/home/connectome/dyhan316/.local/lib/python3.7/site-packages/torch/functional.py:478: UserWarning: torch.meshgrid: in an upcoming release, it will be required to pass the indexing argument. (Triggered internally at  ../aten/src/ATen/native/TensorShape.cpp:2895.)\n",
      "  return _VF.meshgrid(tensors, **kwargs)  # type: ignore[attr-defined]\n"
     ]
    }
   ],
   "source": [
    "import voxelmorph.torch as vxm #torch버젼을 불러오기\n",
    "\n",
    "vxm_model = vxm.networks.VxmDense(inshape, nb_features, int_steps = 0)"
   ]
  },
  {
   "cell_type": "code",
   "execution_count": 7,
   "id": "f8cb1874",
   "metadata": {},
   "outputs": [],
   "source": [
    "losses = [vxm.losses.MSE().loss, vxm.losses.Grad('l2').loss] #loss불러오기 \n",
    "\n",
    "lambda_param = 0.05\n",
    "loss_weights = [1, lambda_param]"
   ]
  },
  {
   "cell_type": "code",
   "execution_count": 8,
   "id": "04210cdf",
   "metadata": {},
   "outputs": [],
   "source": [
    "##dataset가져와서 하거나\n",
    "#이미 만들어진 scripts/training을 어떻게 돌릴지,\n",
    "#backend : pytorch로 해보던지 해보기 "
   ]
  },
  {
   "cell_type": "code",
   "execution_count": 9,
   "id": "2d87ae87",
   "metadata": {},
   "outputs": [
    {
     "data": {
      "text/plain": [
       "voxelmorph.torch.networks.VxmDense"
      ]
     },
     "execution_count": 9,
     "metadata": {},
     "output_type": "execute_result"
    }
   ],
   "source": [
    "type(vxm_model)"
   ]
  },
  {
   "cell_type": "code",
   "execution_count": 25,
   "id": "75430ed6",
   "metadata": {
    "scrolled": true
   },
   "outputs": [
    {
     "name": "stdout",
     "output_type": "stream",
     "text": [
      "(99, 117, 95)\n",
      "(99, 117, 95)\n",
      "(99, 117, 95)\n",
      "(99, 117, 95)\n",
      "(99, 117, 95)\n",
      "(99, 117, 95)\n",
      "(99, 117, 95)\n",
      "(99, 117, 95)\n",
      "(99, 117, 95)\n",
      "(99, 117, 95)\n",
      "(99, 117, 95)\n",
      "(99, 117, 95)\n",
      "(99, 117, 95)\n",
      "(99, 117, 95)\n",
      "(99, 117, 95)\n",
      "(99, 117, 95)\n",
      "(99, 117, 95)\n",
      "(99, 117, 95)\n",
      "(99, 117, 95)\n",
      "(99, 117, 95)\n",
      "(99, 117, 95)\n",
      "(99, 117, 95)\n",
      "(99, 117, 95)\n",
      "(99, 117, 95)\n",
      "(99, 117, 95)\n",
      "(99, 117, 95)\n",
      "(99, 117, 95)\n",
      "(99, 117, 95)\n",
      "(99, 117, 95)\n",
      "(99, 117, 95)\n",
      "(99, 117, 95)\n",
      "(99, 117, 95)\n",
      "(99, 117, 95)\n",
      "(99, 117, 95)\n",
      "(99, 117, 95)\n",
      "(99, 117, 95)\n",
      "(99, 117, 95)\n",
      "(99, 117, 95)\n",
      "(99, 117, 95)\n",
      "(99, 117, 95)\n",
      "(99, 117, 95)\n",
      "(99, 117, 95)\n",
      "(99, 117, 95)\n",
      "(99, 117, 95)\n",
      "(99, 117, 95)\n",
      "(99, 117, 95)\n",
      "(99, 117, 95)\n",
      "(99, 117, 95)\n",
      "(99, 117, 95)\n",
      "(99, 117, 95)\n",
      "(99, 117, 95)\n",
      "(99, 117, 95)\n",
      "(99, 117, 95)\n",
      "(99, 117, 95)\n",
      "(99, 117, 95)\n",
      "(99, 117, 95)\n",
      "(99, 117, 95)\n",
      "(99, 117, 95)\n",
      "(99, 117, 95)\n",
      "(99, 117, 95)\n",
      "(99, 117, 95)\n",
      "(99, 117, 95)\n",
      "(99, 117, 95)\n",
      "(99, 117, 95)\n",
      "(99, 117, 95)\n",
      "(99, 117, 95)\n",
      "(99, 117, 95)\n",
      "(99, 117, 95)\n",
      "(99, 117, 95)\n",
      "(99, 117, 95)\n",
      "(99, 117, 95)\n",
      "(99, 117, 95)\n",
      "(99, 117, 95)\n",
      "(99, 117, 95)\n",
      "(99, 117, 95)\n",
      "(99, 117, 95)\n",
      "(99, 117, 95)\n"
     ]
    }
   ],
   "source": [
    "sub_dir = \"/scratch/connectome/dyhan316/sample_files_for_brain_storm/list.txt\"\n",
    "pd.read_csv(sub_dir)\n",
    "\n",
    "\n",
    "for npy in pd.read_csv(sub_dir).values:\n",
    "    print(np.load(npy[0]).shape)"
   ]
  },
  {
   "cell_type": "code",
   "execution_count": 15,
   "id": "f6dd6aff",
   "metadata": {},
   "outputs": [
    {
     "data": {
      "text/plain": [
       "(99, 117, 95)"
      ]
     },
     "execution_count": 15,
     "metadata": {},
     "output_type": "execute_result"
    }
   ],
   "source": [
    "os.listdir(\"/scratch/connectome/dyhan316/sample_files_for_brain_storm/trash_ABCD_sample_data/\")\n",
    "sample_data = np.load(\"/scratch/connectome/dyhan316/sample_files_for_brain_storm/trash_ABCD_sample_data/NDARINV10EP1VM2.npy\")\n",
    "sample_data.shape"
   ]
  },
  {
   "cell_type": "code",
   "execution_count": 4,
   "id": "59fb12f1",
   "metadata": {},
   "outputs": [
    {
     "data": {
      "text/plain": [
       "['tf', '__pycache__', 'py', '__init__.py', 'torch', 'generators.py']"
      ]
     },
     "execution_count": 4,
     "metadata": {},
     "output_type": "execute_result"
    }
   ],
   "source": [
    "os.listdir('voxelmorph/')"
   ]
  },
  {
   "cell_type": "code",
   "execution_count": null,
   "id": "917851dc",
   "metadata": {},
   "outputs": [],
   "source": [
    "from voxelmorph import \n",
    "import generators\n",
    "from .py.utils import default_unet_features\n",
    "import py\n",
    "\n",
    "\n",
    "import torch\n",
    "import \n",
    "\n"
   ]
  }
 ],
 "metadata": {
  "kernelspec": {
   "display_name": "VAE_3DCNN_older_MONAI",
   "language": "python",
   "name": "vae_3dcnn_older_monai"
  },
  "language_info": {
   "codemirror_mode": {
    "name": "ipython",
    "version": 3
   },
   "file_extension": ".py",
   "mimetype": "text/x-python",
   "name": "python",
   "nbconvert_exporter": "python",
   "pygments_lexer": "ipython3",
   "version": "3.7.4"
  }
 },
 "nbformat": 4,
 "nbformat_minor": 5
}
