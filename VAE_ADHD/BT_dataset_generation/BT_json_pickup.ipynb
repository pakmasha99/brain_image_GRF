{
 "cells": [
  {
   "cell_type": "code",
   "execution_count": 218,
   "id": "5ad067ff",
   "metadata": {},
   "outputs": [],
   "source": [
    "import os \n",
    "import numpy as np \n",
    "import pandas as pd\n",
    "#from xgboost import XGBClassifier\n",
    "from sklearn.model_selection import train_test_split\n",
    "from sklearn.metrics import accuracy_score\n",
    "from sklearn.metrics import confusion_matrix\n",
    "from matplotlib import pyplot as plt\n",
    "#from imblearn.under_sampling import RandomUnderSampler\n",
    "from sklearn.datasets import make_classification\n",
    "import re\n",
    "import json"
   ]
  },
  {
   "cell_type": "code",
   "execution_count": 223,
   "id": "2d783c87",
   "metadata": {},
   "outputs": [],
   "source": [
    "#============================ Change direc if needed ================================#\n",
    "directory = '/scratch/connectome/dyhan316/VAE_ADHD/junbeom_finetuning/finetune_results_TRASH/'"
   ]
  },
  {
   "cell_type": "code",
   "execution_count": 236,
   "id": "eb91e102",
   "metadata": {},
   "outputs": [
    {
     "data": {
      "text/plain": [
       "['ADNI_age-freeze-reg',\n",
       " 'test-freeze-cls',\n",
       " 'ADNI_ALZ_ADMCI-freeze-cls',\n",
       " 'ADNI_ALZ_ADCN-tune_all-cls',\n",
       " 'ADNI_ALZ_ADCN-freeze-cls']"
      ]
     },
     "execution_count": 236,
     "metadata": {},
     "output_type": "execute_result"
    }
   ],
   "source": [
    "file_list = os.listdir(directory) \n",
    "file_name = file_list[:]\n",
    "file_name"
   ]
  },
  {
   "cell_type": "code",
   "execution_count": 238,
   "id": "3f2ca310",
   "metadata": {},
   "outputs": [
    {
     "name": "stdout",
     "output_type": "stream",
     "text": [
      "resnet50_200-train_10\n"
     ]
    }
   ],
   "source": [
    "add_lv1 = directory+file_name[3]\n",
    "add_1_list = os.listdir(add_lv1) \n",
    "print(add_1_list[0])\n",
    "# dataframe에 단계 지날 때마다 저장하기\n",
    "T = []\n",
    "Taskname = add_1_list[0]\n",
    "T.append(Taskname)"
   ]
  },
  {
   "cell_type": "code",
   "execution_count": 239,
   "id": "39b470cf",
   "metadata": {},
   "outputs": [
    {
     "name": "stdout",
     "output_type": "stream",
     "text": [
      "batch_8-lr_0.001-wd_5e-05-tf_cutout\n"
     ]
    }
   ],
   "source": [
    "add_lv2 = add_lv1+'/'+add_1_list[0]\n",
    "add_2_list = os.listdir(add_lv2) \n",
    "add_2_list[0]\n",
    "print(add_2_list[0])\n",
    "# dataframe에 단계 지날 때마다 저장하기\n",
    "P=[]\n",
    "param = add_2_list[0]\n",
    "P.append(param)"
   ]
  },
  {
   "cell_type": "code",
   "execution_count": 240,
   "id": "cff6349d",
   "metadata": {},
   "outputs": [
    {
     "name": "stdout",
     "output_type": "stream",
     "text": [
      "seed_0\n"
     ]
    }
   ],
   "source": [
    "add_lv3 = add_lv2+'/'+add_2_list[0]\n",
    "add_3_list = os.listdir(add_lv3) \n",
    "add_3_list.sort()\n",
    "print(add_3_list[0])\n",
    "# dataframe에 단계 지날 때마다 저장하기\n",
    "S=[]\n",
    "seed = add_3_list[0]\n",
    "S.append(seed)"
   ]
  },
  {
   "cell_type": "code",
   "execution_count": 241,
   "id": "dcb83725",
   "metadata": {},
   "outputs": [
    {
     "data": {
      "text/plain": [
       "'/scratch/connectome/dyhan316/VAE_ADHD/junbeom_finetuning/finetune_results_yAware_hyperparam_tuning/ADNI_age-freeze/ABCDbt128a102-train_200/batch_8-lr_0.0001-wd_5e-05-tf_cutout/seed_0'"
      ]
     },
     "execution_count": 241,
     "metadata": {},
     "output_type": "execute_result"
    }
   ],
   "source": [
    "add_lv4 "
   ]
  },
  {
   "cell_type": "code",
   "execution_count": 242,
   "id": "0440cd82",
   "metadata": {},
   "outputs": [
    {
     "data": {
      "text/html": [
       "<div>\n",
       "<style scoped>\n",
       "    .dataframe tbody tr th:only-of-type {\n",
       "        vertical-align: middle;\n",
       "    }\n",
       "\n",
       "    .dataframe tbody tr th {\n",
       "        vertical-align: top;\n",
       "    }\n",
       "\n",
       "    .dataframe thead th {\n",
       "        text-align: right;\n",
       "    }\n",
       "</style>\n",
       "<table border=\"1\" class=\"dataframe\">\n",
       "  <thead>\n",
       "    <tr style=\"text-align: right;\">\n",
       "      <th></th>\n",
       "      <th>Taskname</th>\n",
       "      <th>param</th>\n",
       "      <th>seed</th>\n",
       "    </tr>\n",
       "  </thead>\n",
       "  <tbody>\n",
       "    <tr>\n",
       "      <th>0</th>\n",
       "      <td>resnet50_200-train_10</td>\n",
       "      <td>batch_8-lr_0.001-wd_5e-05-tf_cutout</td>\n",
       "      <td>seed_0</td>\n",
       "    </tr>\n",
       "  </tbody>\n",
       "</table>\n",
       "</div>"
      ],
      "text/plain": [
       "                Taskname                                param    seed\n",
       "0  resnet50_200-train_10  batch_8-lr_0.001-wd_5e-05-tf_cutout  seed_0"
      ]
     },
     "execution_count": 242,
     "metadata": {},
     "output_type": "execute_result"
    }
   ],
   "source": [
    "#dem 생성 \n",
    "dem = pd.DataFrame({'Taskname':T, 'param':P, 'seed':S})\n",
    "dem"
   ]
  },
  {
   "cell_type": "code",
   "execution_count": 243,
   "id": "75b1d746",
   "metadata": {},
   "outputs": [
    {
     "data": {
      "text/plain": [
       "['ROC_figure.png', 'eval_stats.txt', 'resnet50_200_t_10_model.pt', 'stats.txt']"
      ]
     },
     "execution_count": 243,
     "metadata": {},
     "output_type": "execute_result"
    }
   ],
   "source": [
    "add_lv4 = add_lv3+'/'+seed+'/'\n",
    "add_4_list = os.listdir(add_lv4)\n",
    "add_4_list"
   ]
  },
  {
   "cell_type": "code",
   "execution_count": 244,
   "id": "9933713f",
   "metadata": {},
   "outputs": [
    {
     "data": {
      "text/html": [
       "<div>\n",
       "<style scoped>\n",
       "    .dataframe tbody tr th:only-of-type {\n",
       "        vertical-align: middle;\n",
       "    }\n",
       "\n",
       "    .dataframe tbody tr th {\n",
       "        vertical-align: top;\n",
       "    }\n",
       "\n",
       "    .dataframe thead th {\n",
       "        text-align: right;\n",
       "    }\n",
       "</style>\n",
       "<table border=\"1\" class=\"dataframe\">\n",
       "  <thead>\n",
       "    <tr style=\"text-align: right;\">\n",
       "      <th></th>\n",
       "      <th>0</th>\n",
       "    </tr>\n",
       "  </thead>\n",
       "  <tbody>\n",
       "    <tr>\n",
       "      <th>0</th>\n",
       "      <td>{\"mode\": 1, \"nb_epochs_per_saving\": 10, \"pin_m...</td>\n",
       "    </tr>\n",
       "    <tr>\n",
       "      <th>1</th>\n",
       "      <td>{\"epoch\": 44, \"training_loss\": 0.6882977724075...</td>\n",
       "    </tr>\n",
       "    <tr>\n",
       "      <th>2</th>\n",
       "      <td>{\"test_loss\": 0.6833608688007702, \"test_acc\": ...</td>\n",
       "    </tr>\n",
       "    <tr>\n",
       "      <th>3</th>\n",
       "      <td>{\"MEAN_auroc\": 0.7344793388429751}</td>\n",
       "    </tr>\n",
       "    <tr>\n",
       "      <th>4</th>\n",
       "      <td>{\"AD\": 0.7344793388429751}</td>\n",
       "    </tr>\n",
       "    <tr>\n",
       "      <th>5</th>\n",
       "      <td>{\"CN\": 0.7344793388429751}</td>\n",
       "    </tr>\n",
       "  </tbody>\n",
       "</table>\n",
       "</div>"
      ],
      "text/plain": [
       "                                                   0\n",
       "0  {\"mode\": 1, \"nb_epochs_per_saving\": 10, \"pin_m...\n",
       "1  {\"epoch\": 44, \"training_loss\": 0.6882977724075...\n",
       "2  {\"test_loss\": 0.6833608688007702, \"test_acc\": ...\n",
       "3                 {\"MEAN_auroc\": 0.7344793388429751}\n",
       "4                         {\"AD\": 0.7344793388429751}\n",
       "5                         {\"CN\": 0.7344793388429751}"
      ]
     },
     "execution_count": 244,
     "metadata": {},
     "output_type": "execute_result"
    }
   ],
   "source": [
    "eval_stats = pd.read_csv(add_lv4+'/eval_stats.txt', header = None,sep = \"\\t\")\n",
    "eval_stats"
   ]
  },
  {
   "cell_type": "code",
   "execution_count": 160,
   "id": "9dd7ed9f",
   "metadata": {},
   "outputs": [
    {
     "data": {
      "text/html": [
       "<div>\n",
       "<style scoped>\n",
       "    .dataframe tbody tr th:only-of-type {\n",
       "        vertical-align: middle;\n",
       "    }\n",
       "\n",
       "    .dataframe tbody tr th {\n",
       "        vertical-align: top;\n",
       "    }\n",
       "\n",
       "    .dataframe thead th {\n",
       "        text-align: right;\n",
       "    }\n",
       "</style>\n",
       "<table border=\"1\" class=\"dataframe\">\n",
       "  <thead>\n",
       "    <tr style=\"text-align: right;\">\n",
       "      <th></th>\n",
       "      <th>mode</th>\n",
       "      <th>nb_epochs_per_saving</th>\n",
       "      <th>pin_mem</th>\n",
       "      <th>num_cpu_workers</th>\n",
       "      <th>nb_epochs</th>\n",
       "      <th>cuda</th>\n",
       "      <th>task</th>\n",
       "      <th>tf</th>\n",
       "      <th>model</th>\n",
       "      <th>patience</th>\n",
       "      <th>...</th>\n",
       "      <th>task_type</th>\n",
       "      <th>label_name</th>\n",
       "      <th>num_classes</th>\n",
       "      <th>task_name</th>\n",
       "      <th>batch_size</th>\n",
       "      <th>lr</th>\n",
       "      <th>weight_decay</th>\n",
       "      <th>resize_method</th>\n",
       "      <th>input_size</th>\n",
       "      <th>random_seed</th>\n",
       "    </tr>\n",
       "  </thead>\n",
       "  <tbody>\n",
       "    <tr>\n",
       "      <th>0</th>\n",
       "      <td>1</td>\n",
       "      <td>10</td>\n",
       "      <td>True</td>\n",
       "      <td>2</td>\n",
       "      <td>100</td>\n",
       "      <td>True</td>\n",
       "      <td>ADNI_age</td>\n",
       "      <td>cutout</td>\n",
       "      <td>DenseNet</td>\n",
       "      <td>20</td>\n",
       "      <td>...</td>\n",
       "      <td>reg</td>\n",
       "      <td>PTAGE</td>\n",
       "      <td>1</td>\n",
       "      <td>AGE</td>\n",
       "      <td>8</td>\n",
       "      <td>0.0001</td>\n",
       "      <td>0.00005</td>\n",
       "      <td>None</td>\n",
       "      <td>[1, 99, 117, 95]</td>\n",
       "      <td>0</td>\n",
       "    </tr>\n",
       "  </tbody>\n",
       "</table>\n",
       "<p>1 rows × 23 columns</p>\n",
       "</div>"
      ],
      "text/plain": [
       "   mode  nb_epochs_per_saving  pin_mem  num_cpu_workers  nb_epochs  cuda  \\\n",
       "0     1                    10     True                2        100  True   \n",
       "\n",
       "       task      tf     model  patience  ...  task_type label_name  \\\n",
       "0  ADNI_age  cutout  DenseNet        20  ...        reg      PTAGE   \n",
       "\n",
       "  num_classes task_name batch_size      lr weight_decay  resize_method  \\\n",
       "0           1       AGE          8  0.0001      0.00005           None   \n",
       "\n",
       "         input_size  random_seed  \n",
       "0  [1, 99, 117, 95]            0  \n",
       "\n",
       "[1 rows x 23 columns]"
      ]
     },
     "execution_count": 160,
     "metadata": {},
     "output_type": "execute_result"
    }
   ],
   "source": [
    "# line 0처리\n",
    "line_0 = json.loads(eval_stats.iloc[0][0])\n",
    "input_size_val = line_0.get('input_size')\n",
    "line_0.update(input_size = str(input_size_val))\n",
    "line_00 = []\n",
    "line_00.append(line_0)\n",
    "line_0_df= pd.DataFrame(line_00)\n",
    "line_0_df"
   ]
  },
  {
   "cell_type": "code",
   "execution_count": 161,
   "id": "3070e374",
   "metadata": {},
   "outputs": [
    {
     "data": {
      "text/html": [
       "<div>\n",
       "<style scoped>\n",
       "    .dataframe tbody tr th:only-of-type {\n",
       "        vertical-align: middle;\n",
       "    }\n",
       "\n",
       "    .dataframe tbody tr th {\n",
       "        vertical-align: top;\n",
       "    }\n",
       "\n",
       "    .dataframe thead th {\n",
       "        text-align: right;\n",
       "    }\n",
       "</style>\n",
       "<table border=\"1\" class=\"dataframe\">\n",
       "  <thead>\n",
       "    <tr style=\"text-align: right;\">\n",
       "      <th></th>\n",
       "      <th>epoch</th>\n",
       "      <th>training_loss</th>\n",
       "      <th>training_acc</th>\n",
       "      <th>val_loss</th>\n",
       "      <th>val_acc</th>\n",
       "    </tr>\n",
       "  </thead>\n",
       "  <tbody>\n",
       "    <tr>\n",
       "      <th>0</th>\n",
       "      <td>99</td>\n",
       "      <td>4175.785742</td>\n",
       "      <td>0.0</td>\n",
       "      <td>3541.4375</td>\n",
       "      <td>0.0</td>\n",
       "    </tr>\n",
       "  </tbody>\n",
       "</table>\n",
       "</div>"
      ],
      "text/plain": [
       "   epoch  training_loss  training_acc   val_loss  val_acc\n",
       "0     99    4175.785742           0.0  3541.4375      0.0"
      ]
     },
     "execution_count": 161,
     "metadata": {},
     "output_type": "execute_result"
    }
   ],
   "source": [
    "#line_1처리\n",
    "line_1 = json.loads(eval_stats.iloc[1][0])\n",
    "line_11 = []\n",
    "line_11.append(line_1)\n",
    "line_1_df = pd.DataFrame(line_11)\n",
    "line_1_df"
   ]
  },
  {
   "cell_type": "code",
   "execution_count": 163,
   "id": "1a12cc70",
   "metadata": {},
   "outputs": [
    {
     "data": {
      "text/html": [
       "<div>\n",
       "<style scoped>\n",
       "    .dataframe tbody tr th:only-of-type {\n",
       "        vertical-align: middle;\n",
       "    }\n",
       "\n",
       "    .dataframe tbody tr th {\n",
       "        vertical-align: top;\n",
       "    }\n",
       "\n",
       "    .dataframe thead th {\n",
       "        text-align: right;\n",
       "    }\n",
       "</style>\n",
       "<table border=\"1\" class=\"dataframe\">\n",
       "  <thead>\n",
       "    <tr style=\"text-align: right;\">\n",
       "      <th></th>\n",
       "      <th>test_loss</th>\n",
       "    </tr>\n",
       "  </thead>\n",
       "  <tbody>\n",
       "    <tr>\n",
       "      <th>0</th>\n",
       "      <td>4410.060885</td>\n",
       "    </tr>\n",
       "  </tbody>\n",
       "</table>\n",
       "</div>"
      ],
      "text/plain": [
       "     test_loss\n",
       "0  4410.060885"
      ]
     },
     "execution_count": 163,
     "metadata": {},
     "output_type": "execute_result"
    }
   ],
   "source": [
    "#line_2처리\n",
    "line_2 = json.loads(eval_stats.iloc[2][0])\n",
    "line_22 = []\n",
    "line_22.append(line_2)\n",
    "line_2_df = pd.DataFrame(line_22)\n",
    "line_2_df"
   ]
  },
  {
   "cell_type": "code",
   "execution_count": 245,
   "id": "3bbca0ee",
   "metadata": {},
   "outputs": [
    {
     "data": {
      "text/html": [
       "<div>\n",
       "<style scoped>\n",
       "    .dataframe tbody tr th:only-of-type {\n",
       "        vertical-align: middle;\n",
       "    }\n",
       "\n",
       "    .dataframe tbody tr th {\n",
       "        vertical-align: top;\n",
       "    }\n",
       "\n",
       "    .dataframe thead th {\n",
       "        text-align: right;\n",
       "    }\n",
       "</style>\n",
       "<table border=\"1\" class=\"dataframe\">\n",
       "  <thead>\n",
       "    <tr style=\"text-align: right;\">\n",
       "      <th></th>\n",
       "      <th>MEAN_auroc</th>\n",
       "    </tr>\n",
       "  </thead>\n",
       "  <tbody>\n",
       "    <tr>\n",
       "      <th>0</th>\n",
       "      <td>0.734479</td>\n",
       "    </tr>\n",
       "  </tbody>\n",
       "</table>\n",
       "</div>"
      ],
      "text/plain": [
       "   MEAN_auroc\n",
       "0    0.734479"
      ]
     },
     "execution_count": 245,
     "metadata": {},
     "output_type": "execute_result"
    }
   ],
   "source": [
    "#line_3처리\n",
    "line_3 = json.loads(eval_stats.iloc[3][0])\n",
    "line_33 = []\n",
    "line_33.append(line_3)\n",
    "line_3_df = pd.DataFrame(line_33)\n",
    "line_3_df"
   ]
  },
  {
   "cell_type": "code",
   "execution_count": 251,
   "id": "7146c6f4",
   "metadata": {},
   "outputs": [
    {
     "data": {
      "text/html": [
       "<div>\n",
       "<style scoped>\n",
       "    .dataframe tbody tr th:only-of-type {\n",
       "        vertical-align: middle;\n",
       "    }\n",
       "\n",
       "    .dataframe tbody tr th {\n",
       "        vertical-align: top;\n",
       "    }\n",
       "\n",
       "    .dataframe thead th {\n",
       "        text-align: right;\n",
       "    }\n",
       "</style>\n",
       "<table border=\"1\" class=\"dataframe\">\n",
       "  <thead>\n",
       "    <tr style=\"text-align: right;\">\n",
       "      <th></th>\n",
       "      <th>var1</th>\n",
       "    </tr>\n",
       "  </thead>\n",
       "  <tbody>\n",
       "    <tr>\n",
       "      <th>0</th>\n",
       "      <td>0.734479</td>\n",
       "    </tr>\n",
       "  </tbody>\n",
       "</table>\n",
       "</div>"
      ],
      "text/plain": [
       "       var1\n",
       "0  0.734479"
      ]
     },
     "execution_count": 251,
     "metadata": {},
     "output_type": "execute_result"
    }
   ],
   "source": [
    "#line_4처리\n",
    "line_4 = json.loads(eval_stats.iloc[4][0])\n",
    "line_44 = []\n",
    "line_44.append(line_4)\n",
    "line_4_df = pd.DataFrame(line_44)\n",
    "oriname = line_4_df.columns.tolist()\n",
    "line_4_df.rename(columns = {oriname[0]:\"var1\"}, inplace = True)\n",
    "line_4_df"
   ]
  },
  {
   "cell_type": "code",
   "execution_count": 252,
   "id": "d62a44f3",
   "metadata": {},
   "outputs": [
    {
     "data": {
      "text/html": [
       "<div>\n",
       "<style scoped>\n",
       "    .dataframe tbody tr th:only-of-type {\n",
       "        vertical-align: middle;\n",
       "    }\n",
       "\n",
       "    .dataframe tbody tr th {\n",
       "        vertical-align: top;\n",
       "    }\n",
       "\n",
       "    .dataframe thead th {\n",
       "        text-align: right;\n",
       "    }\n",
       "</style>\n",
       "<table border=\"1\" class=\"dataframe\">\n",
       "  <thead>\n",
       "    <tr style=\"text-align: right;\">\n",
       "      <th></th>\n",
       "      <th>var2</th>\n",
       "    </tr>\n",
       "  </thead>\n",
       "  <tbody>\n",
       "    <tr>\n",
       "      <th>0</th>\n",
       "      <td>0.734479</td>\n",
       "    </tr>\n",
       "  </tbody>\n",
       "</table>\n",
       "</div>"
      ],
      "text/plain": [
       "       var2\n",
       "0  0.734479"
      ]
     },
     "execution_count": 252,
     "metadata": {},
     "output_type": "execute_result"
    }
   ],
   "source": [
    "#line_4처리\n",
    "line_5 = json.loads(eval_stats.iloc[5][0])\n",
    "line_55 = []\n",
    "line_55.append(line_5)\n",
    "line_5_df = pd.DataFrame(line_55)\n",
    "oriname = line_5_df.columns.tolist()\n",
    "line_5_df.rename(columns = {oriname[0]:\"var2\"}, inplace = True)\n",
    "line_5_df"
   ]
  },
  {
   "cell_type": "code",
   "execution_count": 253,
   "id": "d684f3b5",
   "metadata": {},
   "outputs": [
    {
     "data": {
      "text/html": [
       "<div>\n",
       "<style scoped>\n",
       "    .dataframe tbody tr th:only-of-type {\n",
       "        vertical-align: middle;\n",
       "    }\n",
       "\n",
       "    .dataframe tbody tr th {\n",
       "        vertical-align: top;\n",
       "    }\n",
       "\n",
       "    .dataframe thead th {\n",
       "        text-align: right;\n",
       "    }\n",
       "</style>\n",
       "<table border=\"1\" class=\"dataframe\">\n",
       "  <thead>\n",
       "    <tr style=\"text-align: right;\">\n",
       "      <th></th>\n",
       "      <th>Taskname</th>\n",
       "      <th>param</th>\n",
       "      <th>seed</th>\n",
       "      <th>mode</th>\n",
       "      <th>nb_epochs_per_saving</th>\n",
       "      <th>pin_mem</th>\n",
       "      <th>num_cpu_workers</th>\n",
       "      <th>nb_epochs</th>\n",
       "      <th>cuda</th>\n",
       "      <th>task</th>\n",
       "      <th>...</th>\n",
       "      <th>random_seed</th>\n",
       "      <th>epoch</th>\n",
       "      <th>training_loss</th>\n",
       "      <th>training_acc</th>\n",
       "      <th>val_loss</th>\n",
       "      <th>val_acc</th>\n",
       "      <th>test_loss</th>\n",
       "      <th>MEAN_auroc</th>\n",
       "      <th>var1</th>\n",
       "      <th>var2</th>\n",
       "    </tr>\n",
       "  </thead>\n",
       "  <tbody>\n",
       "    <tr>\n",
       "      <th>0</th>\n",
       "      <td>resnet50_200-train_10</td>\n",
       "      <td>batch_8-lr_0.001-wd_5e-05-tf_cutout</td>\n",
       "      <td>seed_0</td>\n",
       "      <td>1</td>\n",
       "      <td>10</td>\n",
       "      <td>True</td>\n",
       "      <td>2</td>\n",
       "      <td>100</td>\n",
       "      <td>True</td>\n",
       "      <td>ADNI_age</td>\n",
       "      <td>...</td>\n",
       "      <td>0</td>\n",
       "      <td>99</td>\n",
       "      <td>4175.785742</td>\n",
       "      <td>0.0</td>\n",
       "      <td>3541.4375</td>\n",
       "      <td>0.0</td>\n",
       "      <td>4410.060885</td>\n",
       "      <td>0.734479</td>\n",
       "      <td>0.734479</td>\n",
       "      <td>0.734479</td>\n",
       "    </tr>\n",
       "  </tbody>\n",
       "</table>\n",
       "<p>1 rows × 35 columns</p>\n",
       "</div>"
      ],
      "text/plain": [
       "                Taskname                                param    seed  mode  \\\n",
       "0  resnet50_200-train_10  batch_8-lr_0.001-wd_5e-05-tf_cutout  seed_0     1   \n",
       "\n",
       "   nb_epochs_per_saving  pin_mem  num_cpu_workers  nb_epochs  cuda      task  \\\n",
       "0                    10     True                2        100  True  ADNI_age   \n",
       "\n",
       "   ... random_seed epoch  training_loss  training_acc   val_loss val_acc  \\\n",
       "0  ...           0    99    4175.785742           0.0  3541.4375     0.0   \n",
       "\n",
       "     test_loss MEAN_auroc      var1      var2  \n",
       "0  4410.060885   0.734479  0.734479  0.734479  \n",
       "\n",
       "[1 rows x 35 columns]"
      ]
     },
     "execution_count": 253,
     "metadata": {},
     "output_type": "execute_result"
    }
   ],
   "source": [
    "# line0~2 concat  & basic_dem\n",
    "final = pd.concat([dem,line_0_df],axis=1)\n",
    "final = pd.concat([final,line_1_df],axis=1)\n",
    "final = pd.concat([final,line_2_df],axis=1)\n",
    "final = pd.concat([final,line_3_df],axis=1)\n",
    "final = pd.concat([final,line_4_df],axis=1)\n",
    "final = pd.concat([final,line_5_df],axis=1)\n",
    "final"
   ]
  },
  {
   "cell_type": "code",
   "execution_count": 255,
   "id": "020800e3",
   "metadata": {},
   "outputs": [
    {
     "data": {
      "text/plain": [
       "['Taskname',\n",
       " 'param',\n",
       " 'seed',\n",
       " 'mode',\n",
       " 'nb_epochs_per_saving',\n",
       " 'pin_mem',\n",
       " 'num_cpu_workers',\n",
       " 'nb_epochs',\n",
       " 'cuda',\n",
       " 'task',\n",
       " 'tf',\n",
       " 'model',\n",
       " 'patience',\n",
       " 'valid_ratio',\n",
       " 'data',\n",
       " 'label',\n",
       " 'task_type',\n",
       " 'label_name',\n",
       " 'num_classes',\n",
       " 'task_name',\n",
       " 'batch_size',\n",
       " 'lr',\n",
       " 'weight_decay',\n",
       " 'resize_method',\n",
       " 'input_size',\n",
       " 'random_seed',\n",
       " 'epoch',\n",
       " 'training_loss',\n",
       " 'training_acc',\n",
       " 'val_loss',\n",
       " 'val_acc',\n",
       " 'test_loss',\n",
       " 'MEAN_auroc',\n",
       " 'var1',\n",
       " 'var2']"
      ]
     },
     "execution_count": 255,
     "metadata": {},
     "output_type": "execute_result"
    }
   ],
   "source": [
    "final.columns.tolist()"
   ]
  },
  {
   "cell_type": "code",
   "execution_count": 216,
   "id": "3e989025",
   "metadata": {},
   "outputs": [
    {
     "data": {
      "text/plain": [
       "['ABCDbt128a102-train_10',\n",
       " 'batch_8-lr_0.0001-wd_5e-05-tf_cutout',\n",
       " 'seed_0',\n",
       " 1,\n",
       " 10,\n",
       " True,\n",
       " 2,\n",
       " 100,\n",
       " True,\n",
       " 'ADNI_age',\n",
       " 'cutout',\n",
       " 'DenseNet',\n",
       " 20,\n",
       " 0.25,\n",
       " '/scratch/connectome/study_group/VAE_ADHD/data',\n",
       " './csv/fsdat_baseline.csv',\n",
       " 'reg',\n",
       " 'PTAGE',\n",
       " 1,\n",
       " 'AGE',\n",
       " 8,\n",
       " 0.0001,\n",
       " 5e-05,\n",
       " None,\n",
       " '[1, 99, 117, 95]',\n",
       " 0,\n",
       " 99,\n",
       " 4175.7857421875,\n",
       " 0.0,\n",
       " 3541.4375,\n",
       " 0.0,\n",
       " 4410.060884863553]"
      ]
     },
     "execution_count": 216,
     "metadata": {},
     "output_type": "execute_result"
    }
   ],
   "source": [
    "a = final.loc[0].tolist()\n",
    "a"
   ]
  },
  {
   "cell_type": "code",
   "execution_count": null,
   "id": "e2a9afd3",
   "metadata": {},
   "outputs": [],
   "source": [
    "/scratch/connectome/dyhan316/VAE_ADHD/junbeom_finetuning/finetune_results_yAware_hyperparam_tuning/ADNI_age-freeze/ABCDbt128a102-train_200/batch_8-lr_0.0001-wd_5e-05-tf_cutout/seed_0/eval_stats.txt"
   ]
  },
  {
   "cell_type": "code",
   "execution_count": 210,
   "id": "8d0e1487",
   "metadata": {},
   "outputs": [],
   "source": [
    "diry = \"/scratch/connectome/dyhan316/VAE_ADHD/junbeom_finetuning/finetune_results_yAware_hyperparam_tuning/ADNI_age-freeze/ABCDbt128a102-train_200/batch_8-lr_0.0001-wd_5e-05-tf_cutout/seed_0\""
   ]
  },
  {
   "cell_type": "code",
   "execution_count": 211,
   "id": "c61ad941",
   "metadata": {},
   "outputs": [
    {
     "ename": "EmptyDataError",
     "evalue": "No columns to parse from file",
     "output_type": "error",
     "traceback": [
      "\u001b[0;31m---------------------------------------------------------------------------\u001b[0m",
      "\u001b[0;31mEmptyDataError\u001b[0m                            Traceback (most recent call last)",
      "\u001b[0;32m/tmp/ipykernel_3405749/2765079731.py\u001b[0m in \u001b[0;36m<module>\u001b[0;34m\u001b[0m\n\u001b[1;32m      4\u001b[0m \u001b[0;34m\u001b[0m\u001b[0m\n\u001b[1;32m      5\u001b[0m \u001b[0;34m\u001b[0m\u001b[0m\n\u001b[0;32m----> 6\u001b[0;31m \u001b[0meval_stats\u001b[0m \u001b[0;34m=\u001b[0m \u001b[0mpd\u001b[0m\u001b[0;34m.\u001b[0m\u001b[0mread_csv\u001b[0m\u001b[0;34m(\u001b[0m\u001b[0madd_lv4\u001b[0m \u001b[0;34m+\u001b[0m\u001b[0;34m'/eval_stats.txt'\u001b[0m\u001b[0;34m,\u001b[0m \u001b[0mheader\u001b[0m \u001b[0;34m=\u001b[0m \u001b[0;32mNone\u001b[0m\u001b[0;34m,\u001b[0m\u001b[0msep\u001b[0m \u001b[0;34m=\u001b[0m \u001b[0;34m\"\\t\"\u001b[0m\u001b[0;34m)\u001b[0m\u001b[0;34m\u001b[0m\u001b[0;34m\u001b[0m\u001b[0m\n\u001b[0m\u001b[1;32m      7\u001b[0m \u001b[0meval_stats\u001b[0m\u001b[0;34m\u001b[0m\u001b[0;34m\u001b[0m\u001b[0m\n",
      "\u001b[0;32m~/.conda/envs/PBS/lib/python3.7/site-packages/pandas/util/_decorators.py\u001b[0m in \u001b[0;36mwrapper\u001b[0;34m(*args, **kwargs)\u001b[0m\n\u001b[1;32m    309\u001b[0m                     \u001b[0mstacklevel\u001b[0m\u001b[0;34m=\u001b[0m\u001b[0mstacklevel\u001b[0m\u001b[0;34m,\u001b[0m\u001b[0;34m\u001b[0m\u001b[0;34m\u001b[0m\u001b[0m\n\u001b[1;32m    310\u001b[0m                 )\n\u001b[0;32m--> 311\u001b[0;31m             \u001b[0;32mreturn\u001b[0m \u001b[0mfunc\u001b[0m\u001b[0;34m(\u001b[0m\u001b[0;34m*\u001b[0m\u001b[0margs\u001b[0m\u001b[0;34m,\u001b[0m \u001b[0;34m**\u001b[0m\u001b[0mkwargs\u001b[0m\u001b[0;34m)\u001b[0m\u001b[0;34m\u001b[0m\u001b[0;34m\u001b[0m\u001b[0m\n\u001b[0m\u001b[1;32m    312\u001b[0m \u001b[0;34m\u001b[0m\u001b[0m\n\u001b[1;32m    313\u001b[0m         \u001b[0;32mreturn\u001b[0m \u001b[0mwrapper\u001b[0m\u001b[0;34m\u001b[0m\u001b[0;34m\u001b[0m\u001b[0m\n",
      "\u001b[0;32m~/.conda/envs/PBS/lib/python3.7/site-packages/pandas/io/parsers/readers.py\u001b[0m in \u001b[0;36mread_csv\u001b[0;34m(filepath_or_buffer, sep, delimiter, header, names, index_col, usecols, squeeze, prefix, mangle_dupe_cols, dtype, engine, converters, true_values, false_values, skipinitialspace, skiprows, skipfooter, nrows, na_values, keep_default_na, na_filter, verbose, skip_blank_lines, parse_dates, infer_datetime_format, keep_date_col, date_parser, dayfirst, cache_dates, iterator, chunksize, compression, thousands, decimal, lineterminator, quotechar, quoting, doublequote, escapechar, comment, encoding, encoding_errors, dialect, error_bad_lines, warn_bad_lines, on_bad_lines, delim_whitespace, low_memory, memory_map, float_precision, storage_options)\u001b[0m\n\u001b[1;32m    584\u001b[0m     \u001b[0mkwds\u001b[0m\u001b[0;34m.\u001b[0m\u001b[0mupdate\u001b[0m\u001b[0;34m(\u001b[0m\u001b[0mkwds_defaults\u001b[0m\u001b[0;34m)\u001b[0m\u001b[0;34m\u001b[0m\u001b[0;34m\u001b[0m\u001b[0m\n\u001b[1;32m    585\u001b[0m \u001b[0;34m\u001b[0m\u001b[0m\n\u001b[0;32m--> 586\u001b[0;31m     \u001b[0;32mreturn\u001b[0m \u001b[0m_read\u001b[0m\u001b[0;34m(\u001b[0m\u001b[0mfilepath_or_buffer\u001b[0m\u001b[0;34m,\u001b[0m \u001b[0mkwds\u001b[0m\u001b[0;34m)\u001b[0m\u001b[0;34m\u001b[0m\u001b[0;34m\u001b[0m\u001b[0m\n\u001b[0m\u001b[1;32m    587\u001b[0m \u001b[0;34m\u001b[0m\u001b[0m\n\u001b[1;32m    588\u001b[0m \u001b[0;34m\u001b[0m\u001b[0m\n",
      "\u001b[0;32m~/.conda/envs/PBS/lib/python3.7/site-packages/pandas/io/parsers/readers.py\u001b[0m in \u001b[0;36m_read\u001b[0;34m(filepath_or_buffer, kwds)\u001b[0m\n\u001b[1;32m    480\u001b[0m \u001b[0;34m\u001b[0m\u001b[0m\n\u001b[1;32m    481\u001b[0m     \u001b[0;31m# Create the parser.\u001b[0m\u001b[0;34m\u001b[0m\u001b[0;34m\u001b[0m\u001b[0;34m\u001b[0m\u001b[0m\n\u001b[0;32m--> 482\u001b[0;31m     \u001b[0mparser\u001b[0m \u001b[0;34m=\u001b[0m \u001b[0mTextFileReader\u001b[0m\u001b[0;34m(\u001b[0m\u001b[0mfilepath_or_buffer\u001b[0m\u001b[0;34m,\u001b[0m \u001b[0;34m**\u001b[0m\u001b[0mkwds\u001b[0m\u001b[0;34m)\u001b[0m\u001b[0;34m\u001b[0m\u001b[0;34m\u001b[0m\u001b[0m\n\u001b[0m\u001b[1;32m    483\u001b[0m \u001b[0;34m\u001b[0m\u001b[0m\n\u001b[1;32m    484\u001b[0m     \u001b[0;32mif\u001b[0m \u001b[0mchunksize\u001b[0m \u001b[0;32mor\u001b[0m \u001b[0miterator\u001b[0m\u001b[0;34m:\u001b[0m\u001b[0;34m\u001b[0m\u001b[0;34m\u001b[0m\u001b[0m\n",
      "\u001b[0;32m~/.conda/envs/PBS/lib/python3.7/site-packages/pandas/io/parsers/readers.py\u001b[0m in \u001b[0;36m__init__\u001b[0;34m(self, f, engine, **kwds)\u001b[0m\n\u001b[1;32m    809\u001b[0m             \u001b[0mself\u001b[0m\u001b[0;34m.\u001b[0m\u001b[0moptions\u001b[0m\u001b[0;34m[\u001b[0m\u001b[0;34m\"has_index_names\"\u001b[0m\u001b[0;34m]\u001b[0m \u001b[0;34m=\u001b[0m \u001b[0mkwds\u001b[0m\u001b[0;34m[\u001b[0m\u001b[0;34m\"has_index_names\"\u001b[0m\u001b[0;34m]\u001b[0m\u001b[0;34m\u001b[0m\u001b[0;34m\u001b[0m\u001b[0m\n\u001b[1;32m    810\u001b[0m \u001b[0;34m\u001b[0m\u001b[0m\n\u001b[0;32m--> 811\u001b[0;31m         \u001b[0mself\u001b[0m\u001b[0;34m.\u001b[0m\u001b[0m_engine\u001b[0m \u001b[0;34m=\u001b[0m \u001b[0mself\u001b[0m\u001b[0;34m.\u001b[0m\u001b[0m_make_engine\u001b[0m\u001b[0;34m(\u001b[0m\u001b[0mself\u001b[0m\u001b[0;34m.\u001b[0m\u001b[0mengine\u001b[0m\u001b[0;34m)\u001b[0m\u001b[0;34m\u001b[0m\u001b[0;34m\u001b[0m\u001b[0m\n\u001b[0m\u001b[1;32m    812\u001b[0m \u001b[0;34m\u001b[0m\u001b[0m\n\u001b[1;32m    813\u001b[0m     \u001b[0;32mdef\u001b[0m \u001b[0mclose\u001b[0m\u001b[0;34m(\u001b[0m\u001b[0mself\u001b[0m\u001b[0;34m)\u001b[0m\u001b[0;34m:\u001b[0m\u001b[0;34m\u001b[0m\u001b[0;34m\u001b[0m\u001b[0m\n",
      "\u001b[0;32m~/.conda/envs/PBS/lib/python3.7/site-packages/pandas/io/parsers/readers.py\u001b[0m in \u001b[0;36m_make_engine\u001b[0;34m(self, engine)\u001b[0m\n\u001b[1;32m   1038\u001b[0m             )\n\u001b[1;32m   1039\u001b[0m         \u001b[0;31m# error: Too many arguments for \"ParserBase\"\u001b[0m\u001b[0;34m\u001b[0m\u001b[0;34m\u001b[0m\u001b[0;34m\u001b[0m\u001b[0m\n\u001b[0;32m-> 1040\u001b[0;31m         \u001b[0;32mreturn\u001b[0m \u001b[0mmapping\u001b[0m\u001b[0;34m[\u001b[0m\u001b[0mengine\u001b[0m\u001b[0;34m]\u001b[0m\u001b[0;34m(\u001b[0m\u001b[0mself\u001b[0m\u001b[0;34m.\u001b[0m\u001b[0mf\u001b[0m\u001b[0;34m,\u001b[0m \u001b[0;34m**\u001b[0m\u001b[0mself\u001b[0m\u001b[0;34m.\u001b[0m\u001b[0moptions\u001b[0m\u001b[0;34m)\u001b[0m  \u001b[0;31m# type: ignore[call-arg]\u001b[0m\u001b[0;34m\u001b[0m\u001b[0;34m\u001b[0m\u001b[0m\n\u001b[0m\u001b[1;32m   1041\u001b[0m \u001b[0;34m\u001b[0m\u001b[0m\n\u001b[1;32m   1042\u001b[0m     \u001b[0;32mdef\u001b[0m \u001b[0m_failover_to_python\u001b[0m\u001b[0;34m(\u001b[0m\u001b[0mself\u001b[0m\u001b[0;34m)\u001b[0m\u001b[0;34m:\u001b[0m\u001b[0;34m\u001b[0m\u001b[0;34m\u001b[0m\u001b[0m\n",
      "\u001b[0;32m~/.conda/envs/PBS/lib/python3.7/site-packages/pandas/io/parsers/c_parser_wrapper.py\u001b[0m in \u001b[0;36m__init__\u001b[0;34m(self, src, **kwds)\u001b[0m\n\u001b[1;32m     67\u001b[0m         \u001b[0mkwds\u001b[0m\u001b[0;34m[\u001b[0m\u001b[0;34m\"dtype\"\u001b[0m\u001b[0;34m]\u001b[0m \u001b[0;34m=\u001b[0m \u001b[0mensure_dtype_objs\u001b[0m\u001b[0;34m(\u001b[0m\u001b[0mkwds\u001b[0m\u001b[0;34m.\u001b[0m\u001b[0mget\u001b[0m\u001b[0;34m(\u001b[0m\u001b[0;34m\"dtype\"\u001b[0m\u001b[0;34m,\u001b[0m \u001b[0;32mNone\u001b[0m\u001b[0;34m)\u001b[0m\u001b[0;34m)\u001b[0m\u001b[0;34m\u001b[0m\u001b[0;34m\u001b[0m\u001b[0m\n\u001b[1;32m     68\u001b[0m         \u001b[0;32mtry\u001b[0m\u001b[0;34m:\u001b[0m\u001b[0;34m\u001b[0m\u001b[0;34m\u001b[0m\u001b[0m\n\u001b[0;32m---> 69\u001b[0;31m             \u001b[0mself\u001b[0m\u001b[0;34m.\u001b[0m\u001b[0m_reader\u001b[0m \u001b[0;34m=\u001b[0m \u001b[0mparsers\u001b[0m\u001b[0;34m.\u001b[0m\u001b[0mTextReader\u001b[0m\u001b[0;34m(\u001b[0m\u001b[0mself\u001b[0m\u001b[0;34m.\u001b[0m\u001b[0mhandles\u001b[0m\u001b[0;34m.\u001b[0m\u001b[0mhandle\u001b[0m\u001b[0;34m,\u001b[0m \u001b[0;34m**\u001b[0m\u001b[0mkwds\u001b[0m\u001b[0;34m)\u001b[0m\u001b[0;34m\u001b[0m\u001b[0;34m\u001b[0m\u001b[0m\n\u001b[0m\u001b[1;32m     70\u001b[0m         \u001b[0;32mexcept\u001b[0m \u001b[0mException\u001b[0m\u001b[0;34m:\u001b[0m\u001b[0;34m\u001b[0m\u001b[0;34m\u001b[0m\u001b[0m\n\u001b[1;32m     71\u001b[0m             \u001b[0mself\u001b[0m\u001b[0;34m.\u001b[0m\u001b[0mhandles\u001b[0m\u001b[0;34m.\u001b[0m\u001b[0mclose\u001b[0m\u001b[0;34m(\u001b[0m\u001b[0;34m)\u001b[0m\u001b[0;34m\u001b[0m\u001b[0;34m\u001b[0m\u001b[0m\n",
      "\u001b[0;32m~/.conda/envs/PBS/lib/python3.7/site-packages/pandas/_libs/parsers.pyx\u001b[0m in \u001b[0;36mpandas._libs.parsers.TextReader.__cinit__\u001b[0;34m()\u001b[0m\n",
      "\u001b[0;31mEmptyDataError\u001b[0m: No columns to parse from file"
     ]
    }
   ],
   "source": [
    "add_lv4 =diry\n",
    "add_4_list = os.listdir(diry)\n",
    "add_4_list\n",
    "\n",
    "\n",
    "eval_stats = pd.read_csv(add_lv4 +'/eval_stats.txt', header = None,sep = \"\\t\")\n",
    "eval_stats"
   ]
  },
  {
   "cell_type": "code",
   "execution_count": 209,
   "id": "c13f1700",
   "metadata": {},
   "outputs": [
    {
     "name": "stdout",
     "output_type": "stream",
     "text": [
      "/scratch/connectome/dyhan316/VAE_ADHD/junbeom_finetuning/finetune_results_yAware_hyperparam_tuning/ABCD_sex-freeze/ABCDbt128a102-train_200/batch_8-lr_0.01-wd_5e-05-tf_cutout/seed_0/eval_stats.txt\n",
      "/scratch/connectome/dyhan316/VAE_ADHD/junbeom_finetuning/finetune_results_yAware_hyperparam_tuning/ADNI_age-freeze/ABCDbt128a102-train_200/batch_8-lr_0.0001-wd_5e-05-tf_cutout/seed_0/eval_stats.txt\n"
     ]
    }
   ],
   "source": [
    "print(add_lv4+'/eval_stats.txt')\n",
    "print('/scratch/connectome/dyhan316/VAE_ADHD/junbeom_finetuning/finetune_results_yAware_hyperparam_tuning/ADNI_age-freeze/ABCDbt128a102-train_200/batch_8-lr_0.0001-wd_5e-05-tf_cutout/seed_0/eval_stats.txt')"
   ]
  },
  {
   "cell_type": "code",
   "execution_count": 201,
   "id": "29d4344d",
   "metadata": {},
   "outputs": [
    {
     "ename": "SyntaxError",
     "evalue": "invalid syntax (3038562098.py, line 1)",
     "output_type": "error",
     "traceback": [
      "\u001b[0;36m  File \u001b[0;32m\"/tmp/ipykernel_3405749/3038562098.py\"\u001b[0;36m, line \u001b[0;32m1\u001b[0m\n\u001b[0;31m    scratch/connectome/dyhan316/VAE_ADHD/junbeom_finetuning/finetune_results_yAware_hyperparam_tuning/ADNI_age-freeze/ABCDbt128a102-train_200/batch_8-lr_0.0001-wd_5e-05-tf_cutout/seed_0/eval_stats.txt()\u001b[0m\n\u001b[0m                                                                                                                                                              ^\u001b[0m\n\u001b[0;31mSyntaxError\u001b[0m\u001b[0;31m:\u001b[0m invalid syntax\n"
     ]
    }
   ],
   "source": []
  },
  {
   "cell_type": "code",
   "execution_count": null,
   "id": "bd46cbe0",
   "metadata": {},
   "outputs": [],
   "source": []
  }
 ],
 "metadata": {
  "kernelspec": {
   "display_name": "Python 3 (ipykernel)",
   "language": "python",
   "name": "python3"
  },
  "language_info": {
   "codemirror_mode": {
    "name": "ipython",
    "version": 3
   },
   "file_extension": ".py",
   "mimetype": "text/x-python",
   "name": "python",
   "nbconvert_exporter": "python",
   "pygments_lexer": "ipython3",
   "version": "3.7.6"
  }
 },
 "nbformat": 4,
 "nbformat_minor": 5
}
