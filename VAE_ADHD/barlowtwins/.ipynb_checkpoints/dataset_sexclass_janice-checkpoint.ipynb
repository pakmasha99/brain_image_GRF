{
 "cells": [
  {
   "cell_type": "code",
   "execution_count": 2,
   "id": "1e8ce4fa",
   "metadata": {},
   "outputs": [
    {
     "name": "stderr",
     "output_type": "stream",
     "text": [
      "/home/connectome/mieuxmin/.conda/envs/PBS/lib/python3.7/site-packages/torchvision/io/image.py:13: UserWarning: Failed to load image Python extension: libtorch_cuda_cu.so: cannot open shared object file: No such file or directory\n",
      "  warn(f\"Failed to load image Python extension: {e}\")\n"
     ]
    }
   ],
   "source": [
    "import numpy as np\n",
    "import monai\n",
    "import pandas as pd\n",
    "import os\n",
    "from monai.data import ImageDataset\n",
    "from monai.transforms import *\n",
    "from pathlib import Path"
   ]
  },
  {
   "cell_type": "code",
   "execution_count": 3,
   "id": "9b5d3fbd",
   "metadata": {},
   "outputs": [],
   "source": [
    "##define dataset (through kinda wrapping over the ImageDataset)\n",
    "def UKB_T1_sexclass(data_path, split, transform, **kwargs):\n",
    "    \"\"\"주의 : train/test split rate : 0.75로 preset (희환쌤 코드 처럼 분리할 수도 있을 것 같으나, 이것은 나중에 하자 )\"\"\"\n",
    "    \n",
    "    #list imgs list inside the directory, with suffixes ending in .gz (list of nii.gz files) ==> sorted \n",
    "    imgs = sorted([f for f in Path(data_path).iterdir() if f.suffix == '.gz']) # f.suffixes로 하면 nii.gz까지 다 있으나, .crop도 suffix로 인정되어 복잡해짐..\n",
    "    \n",
    "    #TRAIN_TEST SPLIT (take first 75% or last 25% of iamge list depending on split)\n",
    "    imgs = imgs[:int(len(imgs)*0.75)] if split == \"train\" else imgs[int(len(imgs)*0.75): ] #i.e. 앞의 75% if train/뒤의 25% if test\n",
    "                        #list of subject directories (PosixPath) to use\n",
    "    \n",
    "    \n",
    "    \"\"\"labels도 위의 두 줄처럼럼 어떻게 해서 하기\n",
    "        #imgs와 order 이 같아야하는 것을 주의하면서! 근데 원래 CELEBA도 40짜리 label을 가져서, 우리도 label찾아서 해야할 듯!\n",
    "        ordering이 맞아야한다는 것을 주의하기!\n",
    "        일단은 그냥 똑같은 shape를 가진 0으로된np  array로 하자\"\"\"\n",
    "\n",
    "    file_list = os.listdir(data_path) \n",
    "    phenotype = pd.read_csv(\"/scratch/connectome/mieuxmin/UKB_t1_MNI/UKB_phenotype.csv\") ###이거는 위치에 따라 달라질 수 있음 \n",
    "    phenotype_real = phenotype[[\"eid\",\"sex\"]]\n",
    "    phenotype_real = phenotype_real.astype({\"eid\":'str'})\n",
    "    lbls_list = []\n",
    "    for i in file_list:\n",
    "        number = i[:7]\n",
    "        #index = phenotype_real.index[phenotype_real[\"eid\"]==number]\n",
    "        index2 = np.where(phenotype_real[\"eid\"]==number)\n",
    "        select_indices = list(index2)[0]\n",
    "        select_df = phenotype_real.iloc[select_indices]\n",
    "        a = list(select_df[\"sex\"])[0]\n",
    "        a = int(a)\n",
    "        lbls_list.append(a)\n",
    "        \n",
    "    lbls = np.array(lbls_list)\n",
    "\n",
    "    return ImageDataset(image_files=imgs, labels = lbls, transform = transform)"
   ]
  },
  {
   "cell_type": "code",
   "execution_count": 4,
   "id": "8aad5776",
   "metadata": {},
   "outputs": [],
   "source": [
    "def UKB_T1(data_path, split, transform, **kwargs):\n",
    "    \"\"\"주의 : train/test split rate : 0.75로 preset (희환쌤 코드 처럼 분리할 수도 있을 것 같으나, 이것은 나중에 하자 )\"\"\"\n",
    "    \n",
    "    #list imgs list inside the directory, with suffixes ending in .gz (list of nii.gz files) ==> sorted \n",
    "    imgs = sorted([f for f in Path(data_path).iterdir() if f.suffix == '.gz']) # f.suffixes로 하면 nii.gz까지 다 있으나, .crop도 suffix로 인정되어 복잡해짐..\n",
    "    \n",
    "    #TRAIN_TEST SPLIT (take first 75% or last 25% of iamge list depending on split)\n",
    "    imgs = imgs[:int(len(imgs)*0.75)] if split == \"train\" else imgs[int(len(imgs)*0.75): ] #i.e. 앞의 75% if train/뒤의 25% if test\n",
    "                        #list of subject directories (PosixPath) to use\n",
    "    \n",
    "    \n",
    "    \"\"\"labels도 위의 두 줄처럼럼 어떻게 해서 하기\n",
    "        #imgs와 order 이 같아야하는 것을 주의하면서! 근데 원래 CELEBA도 40짜리 label을 가져서, 우리도 label찾아서 해야할 듯!\n",
    "        ordering이 맞아야한다는 것을 주의하기!\n",
    "        일단은 그냥 똑같은 shape를 가진 0으로된np  array로 하자\"\"\"\n",
    "    lbls = np.zeros(len(imgs))\n",
    "\n",
    "    return ImageDataset(image_files=imgs, labels = lbls, transform = transform)"
   ]
  },
  {
   "cell_type": "code",
   "execution_count": 5,
   "id": "4cecbca3",
   "metadata": {},
   "outputs": [],
   "source": [
    "class Transform_yAware:\n",
    "    def __init__(self):\n",
    "        \n",
    "        self.transform = monai.transforms.Compose([\n",
    "            #normalize , flip, blur, noise, cutout, crop\n",
    "            ScaleIntensity(), AddChannel(),\n",
    "            RandFlip(prob = 0.5),\n",
    "            RandGaussianSharpen(sigma1_x=(0.1, 1.0), sigma1_y=(0.1, 1.0), sigma1_z=(0.1, 1.0), sigma2_x=0.1, sigma2_y=0.1, sigma2_z=0.1,prob=0.5),\n",
    "            ResizeWithPadOrCrop(spatial_size =  (182,218,182), method = \"symmetric\", mode = \"constant\"),\n",
    "            NormalizeIntensity()\n",
    "            ,ToTensor()\n",
    "        ])\n",
    "        \n",
    "   \n",
    "        #어디에 뭐가 들어있는지 확인하기 위해서, (182,20,182)로 함\n",
    "        self.transform_prime = monai.transforms.Compose([\n",
    "            #normalize , flip, blur, noise, cutout, crop\n",
    "            ScaleIntensity(), AddChannel(),\n",
    "            RandFlip(prob = 0.5),\n",
    "            RandGaussianSharpen(sigma1_x=(0.1, 1.0), sigma1_y=(0.1, 1.0), sigma1_z=(0.1, 1.0), sigma2_x=0.1, sigma2_y=0.1, sigma2_z=0.1,prob=0.5),\n",
    "            ResizeWithPadOrCrop(spatial_size =  (182,218,182), method = \"symmetric\", mode = \"constant\"),\n",
    "            NormalizeIntensity()\n",
    "            ,ToTensor()\n",
    "        ])\n",
    "        \n",
    "         \n",
    "            \n",
    "    def __call__(self, x):\n",
    "        y1 = self.transform(x)\n",
    "        y2 = self.transform_prime(x)\n",
    "        return y1,y2    \n",
    "    "
   ]
  },
  {
   "cell_type": "code",
   "execution_count": 6,
   "id": "fad2ac5e",
   "metadata": {},
   "outputs": [
    {
     "name": "stderr",
     "output_type": "stream",
     "text": [
      "/home/connectome/mieuxmin/.local/lib/python3.7/site-packages/monai/utils/deprecate_utils.py:107: FutureWarning: <class 'monai.transforms.utility.array.AddChannel'>: Class `AddChannel` has been deprecated since version 0.8. please use MetaTensor data type and monai.transforms.EnsureChannelFirst instead.\n",
      "  warn_deprecated(obj, msg, warning_category)\n"
     ]
    },
    {
     "name": "stdout",
     "output_type": "stream",
     "text": [
      "<class 'tuple'>\n"
     ]
    }
   ],
   "source": [
    "data_path = \"/scratch/connectome/mieuxmin/UKB_t1_MNI/toy_mni\"\n",
    "haha = UKB_T1_sexclass(data_path = data_path,split = \"train\", transform = Transform_yAware())\n",
    "print(type(haha[0]))"
   ]
  },
  {
   "cell_type": "code",
   "execution_count": 142,
   "id": "faa2b3b0",
   "metadata": {},
   "outputs": [
    {
     "name": "stdout",
     "output_type": "stream",
     "text": [
      "<class 'tuple'>\n"
     ]
    }
   ],
   "source": [
    "print(type(haha[2]))"
   ]
  },
  {
   "cell_type": "code",
   "execution_count": 144,
   "id": "136adf6d",
   "metadata": {},
   "outputs": [
    {
     "data": {
      "text/plain": [
       "(1, 182, 218, 182)"
      ]
     },
     "execution_count": 144,
     "metadata": {},
     "output_type": "execute_result"
    }
   ],
   "source": [
    "haha[0][0][0].shape"
   ]
  },
  {
   "cell_type": "markdown",
   "id": "638ff836",
   "metadata": {},
   "source": [
    "# 한번 해봅세"
   ]
  },
  {
   "cell_type": "code",
   "execution_count": 8,
   "id": "efd5579b",
   "metadata": {},
   "outputs": [
    {
     "data": {
      "text/plain": [
       "[PosixPath('/scratch/connectome/mieuxmin/UKB_t1_MNI/toy_mni/2003157_T1_brain_to_MNI.nii.gz'),\n",
       " PosixPath('/scratch/connectome/mieuxmin/UKB_t1_MNI/toy_mni/3003063_T1_brain_to_MNI.nii.gz'),\n",
       " PosixPath('/scratch/connectome/mieuxmin/UKB_t1_MNI/toy_mni/3007523_T1_brain_to_MNI.nii.gz'),\n",
       " PosixPath('/scratch/connectome/mieuxmin/UKB_t1_MNI/toy_mni/5976561_T1_brain_to_MNI.nii.gz'),\n",
       " PosixPath('/scratch/connectome/mieuxmin/UKB_t1_MNI/toy_mni/6025016_T1_brain_to_MNI.nii.gz')]"
      ]
     },
     "execution_count": 8,
     "metadata": {},
     "output_type": "execute_result"
    }
   ],
   "source": [
    "# Test \n",
    "data_path = \"/scratch/connectome/mieuxmin/UKB_t1_MNI/toy_mni\"\n",
    "imgs = sorted([f for f in Path(data_path).iterdir() if f.suffix == '.gz'])\n",
    "imgs"
   ]
  },
  {
   "cell_type": "code",
   "execution_count": 9,
   "id": "21c325ee",
   "metadata": {},
   "outputs": [
    {
     "data": {
      "text/plain": [
       "['6025016_T1_brain_to_MNI.nii.gz',\n",
       " '5976561_T1_brain_to_MNI.nii.gz',\n",
       " '2003157_T1_brain_to_MNI.nii.gz',\n",
       " '3007523_T1_brain_to_MNI.nii.gz',\n",
       " '3003063_T1_brain_to_MNI.nii.gz']"
      ]
     },
     "execution_count": 9,
     "metadata": {},
     "output_type": "execute_result"
    }
   ],
   "source": [
    "file_list = os.listdir(data_path) \n",
    "file_list"
   ]
  },
  {
   "cell_type": "code",
   "execution_count": 10,
   "id": "4fba5c8e",
   "metadata": {},
   "outputs": [
    {
     "data": {
      "text/html": [
       "<div>\n",
       "<style scoped>\n",
       "    .dataframe tbody tr th:only-of-type {\n",
       "        vertical-align: middle;\n",
       "    }\n",
       "\n",
       "    .dataframe tbody tr th {\n",
       "        vertical-align: top;\n",
       "    }\n",
       "\n",
       "    .dataframe thead th {\n",
       "        text-align: right;\n",
       "    }\n",
       "</style>\n",
       "<table border=\"1\" class=\"dataframe\">\n",
       "  <thead>\n",
       "    <tr style=\"text-align: right;\">\n",
       "      <th></th>\n",
       "      <th>eid</th>\n",
       "      <th>sex</th>\n",
       "    </tr>\n",
       "  </thead>\n",
       "  <tbody>\n",
       "    <tr>\n",
       "      <th>0</th>\n",
       "      <td>1000010</td>\n",
       "      <td>0.0</td>\n",
       "    </tr>\n",
       "    <tr>\n",
       "      <th>1</th>\n",
       "      <td>1000028</td>\n",
       "      <td>0.0</td>\n",
       "    </tr>\n",
       "    <tr>\n",
       "      <th>2</th>\n",
       "      <td>1000034</td>\n",
       "      <td>0.0</td>\n",
       "    </tr>\n",
       "    <tr>\n",
       "      <th>3</th>\n",
       "      <td>1000045</td>\n",
       "      <td>0.0</td>\n",
       "    </tr>\n",
       "    <tr>\n",
       "      <th>4</th>\n",
       "      <td>1000052</td>\n",
       "      <td>1.0</td>\n",
       "    </tr>\n",
       "    <tr>\n",
       "      <th>...</th>\n",
       "      <td>...</td>\n",
       "      <td>...</td>\n",
       "    </tr>\n",
       "    <tr>\n",
       "      <th>502481</th>\n",
       "      <td>6025376</td>\n",
       "      <td>1.0</td>\n",
       "    </tr>\n",
       "    <tr>\n",
       "      <th>502482</th>\n",
       "      <td>6025387</td>\n",
       "      <td>0.0</td>\n",
       "    </tr>\n",
       "    <tr>\n",
       "      <th>502483</th>\n",
       "      <td>6025391</td>\n",
       "      <td>1.0</td>\n",
       "    </tr>\n",
       "    <tr>\n",
       "      <th>502484</th>\n",
       "      <td>6025400</td>\n",
       "      <td>0.0</td>\n",
       "    </tr>\n",
       "    <tr>\n",
       "      <th>502485</th>\n",
       "      <td>6025417</td>\n",
       "      <td>NaN</td>\n",
       "    </tr>\n",
       "  </tbody>\n",
       "</table>\n",
       "<p>502486 rows × 2 columns</p>\n",
       "</div>"
      ],
      "text/plain": [
       "            eid  sex\n",
       "0       1000010  0.0\n",
       "1       1000028  0.0\n",
       "2       1000034  0.0\n",
       "3       1000045  0.0\n",
       "4       1000052  1.0\n",
       "...         ...  ...\n",
       "502481  6025376  1.0\n",
       "502482  6025387  0.0\n",
       "502483  6025391  1.0\n",
       "502484  6025400  0.0\n",
       "502485  6025417  NaN\n",
       "\n",
       "[502486 rows x 2 columns]"
      ]
     },
     "execution_count": 10,
     "metadata": {},
     "output_type": "execute_result"
    }
   ],
   "source": [
    "phenotype = pd.read_csv(\"/scratch/connectome/mieuxmin/UKB_t1_MNI/UKB_phenotype.csv\") \n",
    "phenotype_real = phenotype[[\"eid\",\"sex\"]]\n",
    "phenotype_real"
   ]
  },
  {
   "cell_type": "code",
   "execution_count": 11,
   "id": "9dfe3e0f",
   "metadata": {},
   "outputs": [],
   "source": [
    "phenotype_real = phenotype_real.astype({\"eid\":'str'})"
   ]
  },
  {
   "cell_type": "code",
   "execution_count": 12,
   "id": "21072cc7",
   "metadata": {},
   "outputs": [
    {
     "name": "stdout",
     "output_type": "stream",
     "text": [
      "[0]\n"
     ]
    }
   ],
   "source": [
    "\n",
    "for i in file_list:\n",
    "    number = i[:7]\n",
    "    lbls = []\n",
    "    #index = phenotype_real.index[phenotype_real[\"eid\"]==number]\n",
    "    index2 = np.where(phenotype_real[\"eid\"]==number)\n",
    "    select_indices = list(index2)[0]\n",
    "    select_df = phenotype_real.iloc[select_indices]\n",
    "    a = list(select_df[\"sex\"])[0]\n",
    "    a = int(a)\n",
    "    lbls.append(a)\n",
    "print(lbls)"
   ]
  },
  {
   "cell_type": "markdown",
   "id": "c935f5a8",
   "metadata": {},
   "source": [
    "# Trouble shooting"
   ]
  },
  {
   "cell_type": "code",
   "execution_count": 130,
   "id": "7ff5f8d2",
   "metadata": {},
   "outputs": [
    {
     "name": "stdout",
     "output_type": "stream",
     "text": [
      "<class 'int'>\n"
     ]
    }
   ],
   "source": [
    "#question\n",
    "a = ((1,182,218,182),(1,182,218,182),1)\n",
    "#print(type(haha[0]))\n",
    "print(type(a[2]))"
   ]
  },
  {
   "cell_type": "code",
   "execution_count": 125,
   "id": "938b5b46",
   "metadata": {},
   "outputs": [
    {
     "ename": "TypeError",
     "evalue": "'int' object is not subscriptable",
     "output_type": "error",
     "traceback": [
      "\u001b[0;31m---------------------------------------------------------------------------\u001b[0m",
      "\u001b[0;31mTypeError\u001b[0m                                 Traceback (most recent call last)",
      "\u001b[0;32m/tmp/ipykernel_359423/228395717.py\u001b[0m in \u001b[0;36m<module>\u001b[0;34m\u001b[0m\n\u001b[1;32m      1\u001b[0m \u001b[0;31m#haha[1][0][0].shape\u001b[0m\u001b[0;34m\u001b[0m\u001b[0;34m\u001b[0m\u001b[0;34m\u001b[0m\u001b[0m\n\u001b[0;32m----> 2\u001b[0;31m \u001b[0ma\u001b[0m\u001b[0;34m[\u001b[0m\u001b[0;36m0\u001b[0m\u001b[0;34m]\u001b[0m\u001b[0;34m[\u001b[0m\u001b[0;36m0\u001b[0m\u001b[0;34m]\u001b[0m\u001b[0;34m[\u001b[0m\u001b[0;36m0\u001b[0m\u001b[0;34m]\u001b[0m\u001b[0;34m.\u001b[0m\u001b[0mshape\u001b[0m\u001b[0;34m\u001b[0m\u001b[0;34m\u001b[0m\u001b[0m\n\u001b[0m",
      "\u001b[0;31mTypeError\u001b[0m: 'int' object is not subscriptable"
     ]
    }
   ],
   "source": [
    "#haha[1][0][0].shape\n",
    "a[0][0][0].shape"
   ]
  },
  {
   "cell_type": "code",
   "execution_count": 135,
   "id": "3ba6e9c3",
   "metadata": {},
   "outputs": [
    {
     "name": "stdout",
     "output_type": "stream",
     "text": [
      "<class 'tuple'>\n"
     ]
    }
   ],
   "source": [
    "data_path = \"/scratch/connectome/mieuxmin/UKB_t1_MNI/toy_mni\"\n",
    "haha = UKB_T1(data_path = data_path,split = \"train\", transform = Transform_yAware())\n",
    "print(type(haha[2]))"
   ]
  },
  {
   "cell_type": "code",
   "execution_count": 136,
   "id": "f319a5ef",
   "metadata": {},
   "outputs": [],
   "source": [
    "lbls = np.zeros(len(imgs))"
   ]
  },
  {
   "cell_type": "code",
   "execution_count": 137,
   "id": "9f935f9e",
   "metadata": {},
   "outputs": [
    {
     "data": {
      "text/plain": [
       "array([0., 0., 0., 0., 0.])"
      ]
     },
     "execution_count": 137,
     "metadata": {},
     "output_type": "execute_result"
    }
   ],
   "source": [
    "lbls"
   ]
  },
  {
   "cell_type": "code",
   "execution_count": null,
   "id": "8e0e4a1f",
   "metadata": {},
   "outputs": [],
   "source": []
  }
 ],
 "metadata": {
  "kernelspec": {
   "display_name": "Python 3 (ipykernel)",
   "language": "python",
   "name": "python3"
  },
  "language_info": {
   "codemirror_mode": {
    "name": "ipython",
    "version": 3
   },
   "file_extension": ".py",
   "mimetype": "text/x-python",
   "name": "python",
   "nbconvert_exporter": "python",
   "pygments_lexer": "ipython3",
   "version": "3.7.6"
  }
 },
 "nbformat": 4,
 "nbformat_minor": 5
}
