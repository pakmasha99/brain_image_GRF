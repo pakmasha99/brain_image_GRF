{
 "cells": [
  {
   "cell_type": "code",
   "execution_count": 1,
   "id": "58357c37",
   "metadata": {},
   "outputs": [
    {
     "data": {
      "text/html": [
       "<style>.container { width:100% !important; }</style>"
      ],
      "text/plain": [
       "<IPython.core.display.HTML object>"
      ]
     },
     "metadata": {},
     "output_type": "display_data"
    }
   ],
   "source": [
    "from IPython.display import display, HTML\n",
    "display(HTML(\"<style>.container { width:100% !important; }</style>\"))"
   ]
  },
  {
   "cell_type": "markdown",
   "id": "d0b63ef8",
   "metadata": {},
   "source": [
    "# 0. Supplementary Knowledge\n",
    "먼저, 밑에 것 보기 전에 미리 공부해야할 것들을 보자"
   ]
  },
  {
   "cell_type": "markdown",
   "id": "049aa4b2",
   "metadata": {},
   "source": [
    "# 1. Basic Setup"
   ]
  },
  {
   "cell_type": "markdown",
   "id": "78fb235d",
   "metadata": {},
   "source": [
    "## 1.1. Importing files"
   ]
  },
  {
   "cell_type": "code",
   "execution_count": 2,
   "id": "6f367d0e",
   "metadata": {},
   "outputs": [
    {
     "name": "stderr",
     "output_type": "stream",
     "text": [
      "/home/connectome/dyhan316/.conda/envs/VAE/lib/python3.10/site-packages/tqdm/auto.py:22: TqdmWarning: IProgress not found. Please update jupyter and ipywidgets. See https://ipywidgets.readthedocs.io/en/stable/user_install.html\n",
      "  from .autonotebook import tqdm as notebook_tqdm\n"
     ]
    }
   ],
   "source": [
    "import torch\n",
    "import torchvision\n",
    "import torchvision.transforms as transforms\n",
    "import torch.nn as nn\n",
    "import torch.nn.functional as F\n",
    "import torch.optim as optim\n",
    "import argparse\n",
    "import numpy as np\n",
    "import time\n",
    "from copy import deepcopy # Add Deepcopy for args\n",
    "import seaborn as sns\n",
    "import matplotlib.pyplot as plt\n",
    "import nibabel as nib\n",
    "import glob\n",
    "import os\n",
    "from tqdm.auto import tqdm\n",
    "from nilearn import plotting\n",
    "import matplotlib.pyplot as plt\n",
    "import pandas as pd\n",
    "import random\n",
    "import hashlib\n",
    "import json\n",
    "from os import listdir\n",
    "from os.path import isfile, join\n",
    "import monai\n",
    "from monai.data import CSVSaver, ImageDataset, DistributedWeightedRandomSampler\n",
    "from monai.transforms import AddChannel, Compose, RandRotate90, Resize, ScaleIntensity, Flip, ToTensor\n",
    "from monai.utils import set_determinism\n",
    "from monai.apps import CrossValidation"
   ]
  },
  {
   "cell_type": "markdown",
   "id": "5861b87a",
   "metadata": {},
   "source": [
    "## 1.2. defining args/device\n",
    "원래는 parser args로 하지만, 여기서는 notebook이니 그냥 args만들어서 하자\n",
    "\n",
    "**must be filled (set as `None` for now)**\n",
    "* `model`\n",
    "* `optim` (Adam으로 지정해 주기는 함)\n",
    "* `exp_name` (뭔지 몰라서 지정 딱히 안해줌)"
   ]
  },
  {
   "cell_type": "code",
   "execution_count": 5,
   "id": "d0c1d660",
   "metadata": {},
   "outputs": [
    {
     "name": "stdout",
     "output_type": "stream",
     "text": [
      "10\n"
     ]
    }
   ],
   "source": [
    "class Args():\n",
    "    def __init__(self):\n",
    "        self.GPU_NUM =1\n",
    "        self.model = 'CNN3D_1' ##일단은 이것을 돌려보자 (CNN3D_2 도 있기는 함!) \n",
    "        self.val_size=0.1\n",
    "        self.test_size=0.1\n",
    "        self.resize=(96,96,96)\n",
    "        self.train_batch_size=16\n",
    "        self.val_batch_size=8\n",
    "        self.test_batch_size =8\n",
    "        self.in_channels =1\n",
    "        self.out_dim=2\n",
    "        self.optim = \"Adam\" #그냥 임의로 내가 넣은 것\n",
    "        self.lr=1e-5\n",
    "        self.l2=0.00001\n",
    "        self.epoch = 10 #그냥 임의로 내가 정한 것 \n",
    "        self.exp_name = \"test_test\" #experiment name인것 같다..?\n",
    "args = Args()\n",
    "##잘됬는지 중간 점검\n",
    "print(args.epoch)"
   ]
  },
  {
   "cell_type": "code",
   "execution_count": 9,
   "id": "aec50902",
   "metadata": {
    "scrolled": true
   },
   "outputs": [
    {
     "name": "stdout",
     "output_type": "stream",
     "text": [
      "Experiment will be performed on GPU 1\n"
     ]
    }
   ],
   "source": [
    "## ========= GPU Setting ========= ##\n",
    "GPU_NUM = args.GPU_NUM # 원하는 GPU 번호 입력\n",
    "device = torch.device(f'cuda:{GPU_NUM}' if torch.cuda.is_available() else 'cpu')\n",
    "torch.cuda.set_device(device)\n",
    "print('Experiment will be performed on GPU {}'.format(torch.cuda.current_device()))"
   ]
  },
  {
   "cell_type": "markdown",
   "id": "b4f10088",
   "metadata": {},
   "source": [
    "## X.X. dsfkjdklsfjdklsfjdklsfds\n",
    "\n",
    "**밑에 고치기!! 일단은 skip (어떤 것인지 등등도 해야하나 skip)**"
   ]
  },
  {
   "cell_type": "code",
   "execution_count": 11,
   "id": "e3529355",
   "metadata": {},
   "outputs": [
    {
     "ename": "FileNotFoundError",
     "evalue": "[Errno 2] No such file or directory: '/scratch/connectome/dhkdgmlghks/docker/share/preprocessed_masked'",
     "output_type": "error",
     "traceback": [
      "\u001b[0;31m---------------------------------------------------------------------------\u001b[0m",
      "\u001b[0;31mFileNotFoundError\u001b[0m                         Traceback (most recent call last)",
      "Input \u001b[0;32mIn [11]\u001b[0m, in \u001b[0;36m<cell line: 5>\u001b[0;34m()\u001b[0m\n\u001b[1;32m      3\u001b[0m base_dir \u001b[38;5;241m=\u001b[39m \u001b[38;5;124m'\u001b[39m\u001b[38;5;124m/scratch/connectome/dhkdgmlghks/docker/share/preprocessed_masked\u001b[39m\u001b[38;5;124m'\u001b[39m\n\u001b[1;32m      4\u001b[0m data_dir \u001b[38;5;241m=\u001b[39m \u001b[38;5;124m'\u001b[39m\u001b[38;5;124m/scratch/connectome/dhkdgmlghks/docker/share/preprocessed_masked\u001b[39m\u001b[38;5;124m'\u001b[39m\n\u001b[0;32m----> 5\u001b[0m \u001b[43mos\u001b[49m\u001b[38;5;241;43m.\u001b[39;49m\u001b[43mchdir\u001b[49m\u001b[43m(\u001b[49m\u001b[43mdata_dir\u001b[49m\u001b[43m)\u001b[49m\n\u001b[1;32m      6\u001b[0m image_files \u001b[38;5;241m=\u001b[39m glob\u001b[38;5;241m.\u001b[39mglob(\u001b[38;5;124m'\u001b[39m\u001b[38;5;124m*.npy\u001b[39m\u001b[38;5;124m'\u001b[39m)\n\u001b[1;32m      7\u001b[0m image_files \u001b[38;5;241m=\u001b[39m \u001b[38;5;28msorted\u001b[39m(image_files)\n",
      "\u001b[0;31mFileNotFoundError\u001b[0m: [Errno 2] No such file or directory: '/scratch/connectome/dhkdgmlghks/docker/share/preprocessed_masked'"
     ]
    }
   ],
   "source": [
    "## ========= Data Preprocessing ========= ##\n",
    "# getting image file names (subject ID + '.npy') as list\n",
    "base_dir = '/scratch/connectome/dhkdgmlghks/docker/share/preprocessed_masked'\n",
    "data_dir = '/scratch/connectome/dhkdgmlghks/docker/share/preprocessed_masked'\n",
    "os.chdir(data_dir)\n",
    "image_files = glob.glob('*.npy')\n",
    "image_files = sorted(image_files)"
   ]
  },
  {
   "cell_type": "code",
   "execution_count": 14,
   "id": "d66df4ff",
   "metadata": {},
   "outputs": [
    {
     "name": "stdout",
     "output_type": "stream",
     "text": [
      "            subjectkey    age  sex  race.ethnicity  high.educ  income  \\\n",
      "0      NDARINV003RTV85  131.0  2.0             1.0       13.0     8.0   \n",
      "1      NDARINV005V6D2C    NaN  NaN             NaN        NaN     NaN   \n",
      "2      NDARINV007W6H7B  126.0  1.0             1.0       19.0    10.0   \n",
      "3      NDARINV00BD7VDC  112.0  1.0             1.0       20.0    10.0   \n",
      "4      NDARINV00CY2MDM  130.0  1.0             1.0       15.0     6.0   \n",
      "...                ...    ...  ...             ...        ...     ...   \n",
      "11870  NDARINVZZNX6W2P  131.0  1.0             1.0       18.0     9.0   \n",
      "11871  NDARINVZZPKBDAC  113.0  2.0             1.0       19.0    10.0   \n",
      "11872  NDARINVZZZ2ALR6  120.0  2.0             5.0       21.0    10.0   \n",
      "11873  NDARINVZZZNB0XC  108.0  2.0             3.0       19.0     3.0   \n",
      "11874  NDARINVZZZP87KR  126.0  2.0             2.0       17.0     7.0   \n",
      "\n",
      "       married  abcd_site  height  weight  ...  Substance.Use.Disorder.x  \\\n",
      "0          1.0        6.0  56.500    93.0  ...                       0.0   \n",
      "1          NaN        NaN     NaN     NaN  ...                       0.0   \n",
      "2          1.0       22.0  56.500    82.8  ...                       0.0   \n",
      "3          1.0        7.0  57.500    76.8  ...                       0.0   \n",
      "4          4.0       20.0  56.500    91.5  ...                       0.0   \n",
      "...        ...        ...     ...     ...  ...                       ...   \n",
      "11870      1.0       14.0  56.000    73.0  ...                       0.0   \n",
      "11871      1.0       12.0  58.875    90.0  ...                       0.0   \n",
      "11872      1.0        8.0  54.700    59.5  ...                       0.0   \n",
      "11873      1.0        3.0  49.000    63.0  ...                       0.0   \n",
      "11874      5.0       19.0  59.500   123.0  ...                       0.0   \n",
      "\n",
      "       Other.Drugs.Use.Disorder.x  \\\n",
      "0                             0.0   \n",
      "1                             0.0   \n",
      "2                             0.0   \n",
      "3                             0.0   \n",
      "4                             0.0   \n",
      "...                           ...   \n",
      "11870                         0.0   \n",
      "11871                         0.0   \n",
      "11872                         0.0   \n",
      "11873                         0.0   \n",
      "11874                         0.0   \n",
      "\n",
      "       Sedative.Hypnotic.or.Anxiolytic.Use.Disorder.x  \\\n",
      "0                                                 0.0   \n",
      "1                                                 0.0   \n",
      "2                                                 0.0   \n",
      "3                                                 0.0   \n",
      "4                                                 0.0   \n",
      "...                                               ...   \n",
      "11870                                             0.0   \n",
      "11871                                             0.0   \n",
      "11872                                             0.0   \n",
      "11873                                             0.0   \n",
      "11874                                             0.0   \n",
      "\n",
      "       Other.Specified.Trauma.and.Stressor.Related.Disorder.x  \\\n",
      "0                                                    0.0        \n",
      "1                                                    0.0        \n",
      "2                                                    0.0        \n",
      "3                                                    0.0        \n",
      "4                                                    0.0        \n",
      "...                                                  ...        \n",
      "11870                                                0.0        \n",
      "11871                                                0.0        \n",
      "11872                                                0.0        \n",
      "11873                                                0.0        \n",
      "11874                                                0.0        \n",
      "\n",
      "       Post.Traumatic.Stress.Disorder.x  HOMICIDAL.IDEATION.AND.BEHAVIOR.x  \\\n",
      "0                                   0.0                                0.0   \n",
      "1                                   0.0                                0.0   \n",
      "2                                   0.0                                0.0   \n",
      "3                                   0.0                                0.0   \n",
      "4                                   0.0                                0.0   \n",
      "...                                 ...                                ...   \n",
      "11870                               0.0                                0.0   \n",
      "11871                               0.0                                0.0   \n",
      "11872                               0.0                                0.0   \n",
      "11873                               0.0                                0.0   \n",
      "11874                               0.0                                0.0   \n",
      "\n",
      "       totalBIS  totalBAS  PPSP_frequency  PPSP_distress  \n",
      "0           2.0      17.0               0              0  \n",
      "1          10.0      22.0               0              0  \n",
      "2           6.0       7.0               7             18  \n",
      "3          11.0      13.0               0              0  \n",
      "4           5.0      10.0               0              0  \n",
      "...         ...       ...             ...            ...  \n",
      "11870      10.0      25.0               0              0  \n",
      "11871      12.0      21.0               3              2  \n",
      "11872       9.0      12.0               0              0  \n",
      "11873      11.0      18.0              14             24  \n",
      "11874      11.0      15.0               2              0  \n",
      "\n",
      "[11875 rows x 118 columns]\n"
     ]
    },
    {
     "data": {
      "text/html": [
       "<div>\n",
       "<style scoped>\n",
       "    .dataframe tbody tr th:only-of-type {\n",
       "        vertical-align: middle;\n",
       "    }\n",
       "\n",
       "    .dataframe tbody tr th {\n",
       "        vertical-align: top;\n",
       "    }\n",
       "\n",
       "    .dataframe thead th {\n",
       "        text-align: right;\n",
       "    }\n",
       "</style>\n",
       "<table border=\"1\" class=\"dataframe\">\n",
       "  <thead>\n",
       "    <tr style=\"text-align: right;\">\n",
       "      <th></th>\n",
       "      <th>subjectkey</th>\n",
       "      <th>sex</th>\n",
       "    </tr>\n",
       "  </thead>\n",
       "  <tbody>\n",
       "    <tr>\n",
       "      <th>0</th>\n",
       "      <td>NDARINV003RTV85</td>\n",
       "      <td>2.0</td>\n",
       "    </tr>\n",
       "    <tr>\n",
       "      <th>1</th>\n",
       "      <td>NDARINV007W6H7B</td>\n",
       "      <td>1.0</td>\n",
       "    </tr>\n",
       "    <tr>\n",
       "      <th>2</th>\n",
       "      <td>NDARINV00BD7VDC</td>\n",
       "      <td>1.0</td>\n",
       "    </tr>\n",
       "    <tr>\n",
       "      <th>3</th>\n",
       "      <td>NDARINV00CY2MDM</td>\n",
       "      <td>1.0</td>\n",
       "    </tr>\n",
       "    <tr>\n",
       "      <th>4</th>\n",
       "      <td>NDARINV00HEV6HB</td>\n",
       "      <td>1.0</td>\n",
       "    </tr>\n",
       "    <tr>\n",
       "      <th>...</th>\n",
       "      <td>...</td>\n",
       "      <td>...</td>\n",
       "    </tr>\n",
       "    <tr>\n",
       "      <th>11526</th>\n",
       "      <td>NDARINVZZNX6W2P</td>\n",
       "      <td>1.0</td>\n",
       "    </tr>\n",
       "    <tr>\n",
       "      <th>11527</th>\n",
       "      <td>NDARINVZZPKBDAC</td>\n",
       "      <td>2.0</td>\n",
       "    </tr>\n",
       "    <tr>\n",
       "      <th>11528</th>\n",
       "      <td>NDARINVZZZ2ALR6</td>\n",
       "      <td>2.0</td>\n",
       "    </tr>\n",
       "    <tr>\n",
       "      <th>11529</th>\n",
       "      <td>NDARINVZZZNB0XC</td>\n",
       "      <td>2.0</td>\n",
       "    </tr>\n",
       "    <tr>\n",
       "      <th>11530</th>\n",
       "      <td>NDARINVZZZP87KR</td>\n",
       "      <td>2.0</td>\n",
       "    </tr>\n",
       "  </tbody>\n",
       "</table>\n",
       "<p>11531 rows × 2 columns</p>\n",
       "</div>"
      ],
      "text/plain": [
       "            subjectkey  sex\n",
       "0      NDARINV003RTV85  2.0\n",
       "1      NDARINV007W6H7B  1.0\n",
       "2      NDARINV00BD7VDC  1.0\n",
       "3      NDARINV00CY2MDM  1.0\n",
       "4      NDARINV00HEV6HB  1.0\n",
       "...                ...  ...\n",
       "11526  NDARINVZZNX6W2P  1.0\n",
       "11527  NDARINVZZPKBDAC  2.0\n",
       "11528  NDARINVZZZ2ALR6  2.0\n",
       "11529  NDARINVZZZNB0XC  2.0\n",
       "11530  NDARINVZZZP87KR  2.0\n",
       "\n",
       "[11531 rows x 2 columns]"
      ]
     },
     "execution_count": 14,
     "metadata": {},
     "output_type": "execute_result"
    }
   ],
   "source": [
    "\n",
    "# getting subject ID and target variables\n",
    "target = 'sex'\n",
    "\n",
    "subject_data = pd.read_csv('/scratch/connectome/3DCNN/data/1.ABCD/4.demo_qc/ABCD_phenotype_total.csv')\n",
    "subject_data = subject_data.loc[:,['subjectkey',target]]\n",
    "subject_data = subject_data.sort_values(by='subjectkey')\n",
    "subject_data = subject_data.dropna(axis = 0)\n",
    "subject_data = subject_data.reset_index(drop=True) # removing subject have NA values in sex\n",
    "\n",
    "subject_data\n"
   ]
  },
  {
   "cell_type": "code",
   "execution_count": null,
   "id": "b0e95071",
   "metadata": {},
   "outputs": [],
   "source": []
  }
 ],
 "metadata": {
  "kernelspec": {
   "display_name": "Python 3 (ipykernel)",
   "language": "python",
   "name": "python3"
  },
  "language_info": {
   "codemirror_mode": {
    "name": "ipython",
    "version": 3
   },
   "file_extension": ".py",
   "mimetype": "text/x-python",
   "name": "python",
   "nbconvert_exporter": "python",
   "pygments_lexer": "ipython3",
   "version": "3.10.5"
  }
 },
 "nbformat": 4,
 "nbformat_minor": 5
}
