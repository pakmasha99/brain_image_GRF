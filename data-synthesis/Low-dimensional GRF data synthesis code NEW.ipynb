{
 "cells": [
  {
   "cell_type": "code",
   "execution_count": 1,
   "metadata": {},
   "outputs": [],
   "source": [
    "import numpy as np\n",
    "import scipy.special\n",
    "import matplotlib.pyplot as plt\n",
    "import pandas as pd"
   ]
  },
  {
   "cell_type": "markdown",
   "metadata": {},
   "source": [
    "### Create rnorm_pre() function"
   ]
  },
  {
   "cell_type": "code",
   "execution_count": 17,
   "metadata": {},
   "outputs": [],
   "source": [
    "# ref: https://github.com/debruine/faux/blob/master/R/rnorm_pre.R\n",
    "import numpy as np\n",
    "import statsmodels.api as sm\n",
    "\n",
    "def sample_from_pop(n=100, mu=0, sd=1, r=0):\n",
    "    r_sd = np.sqrt(1/n) * np.sqrt(1 - r**2)\n",
    "    sample_r = np.random.normal(r, r_sd)\n",
    "    sample_r = np.clip(sample_r, -1, 1)\n",
    "    \n",
    "    mu_sd = sd / np.sqrt(n)\n",
    "    sample_mu = np.random.normal(mu, mu_sd)\n",
    "    \n",
    "    sd_sd = sd / np.sqrt(2 * n)\n",
    "    sample_sd = np.random.normal(sd, sd_sd)\n",
    "    \n",
    "    return {'mu': sample_mu, 'sd': sample_sd, 'r': sample_r}\n",
    "\n",
    "def rnorm_pre(x, mu=0, sd=1, r=0, empirical=False, threshold=1e-12):\n",
    "    if isinstance(x, np.ndarray) and len(x.shape) == 1:\n",
    "        x = x.reshape(-1, 1)\n",
    "    elif isinstance(x, np.ndarray) and len(x.shape) == 2:\n",
    "        pass\n",
    "    else:\n",
    "        raise ValueError(\"x must be a vector or a 2D array\")\n",
    "\n",
    "    n, d = x.shape\n",
    "    rho = np.repeat(r, d)\n",
    "\n",
    "    if not empirical:\n",
    "        sample_params = sample_from_pop(n, mu, sd, rho)\n",
    "        mu = sample_params['mu']\n",
    "        sd = sample_params['sd']\n",
    "        rho = sample_params['r']\n",
    "\n",
    "    x = (x - np.mean(x, axis=0)) / np.std(x, axis=0)\n",
    "    y = np.random.normal(size=n)\n",
    "        \n",
    "    e = sm.OLS(y, x).fit().resid\n",
    "\n",
    "    if d == 1:\n",
    "        z = rho * x[:, 0] + np.sqrt(1 - rho**2) * e\n",
    "    else:\n",
    "        u, s, vh = svd(x, full_matrices=False)\n",
    "        x_dual = np.dot(u * (n - 1), vh)\n",
    "        sigma2 = ((1 - np.dot(np.dot(rho, x_dual.T), rho)) / np.var(e)).clip(min=0)\n",
    "\n",
    "        if sigma2 >= 0:\n",
    "            sigma = np.sqrt(sigma2)\n",
    "            z = np.dot(x_dual, rho) + sigma * e\n",
    "        else:\n",
    "            print(\"Correlations are impossible.\")\n",
    "            z = np.zeros(n)\n",
    "\n",
    "    return mu + sd * z\n"
   ]
  },
  {
   "cell_type": "code",
   "execution_count": 18,
   "metadata": {},
   "outputs": [
    {
     "name": "stdout",
     "output_type": "stream",
     "text": [
      "0.786\n"
     ]
    }
   ],
   "source": [
    "# test the function\n",
    "np.random.seed(12)\n",
    "a = np.random.normal(0, 1, size=n_samples)\n",
    "b = rnorm_pre(a, mu=0, sd=1, r=0.78)\n",
    "print(round(np.corrcoef(a,b)[0,1], 3))"
   ]
  },
  {
   "cell_type": "markdown",
   "metadata": {},
   "source": [
    "### Setting"
   ]
  },
  {
   "cell_type": "code",
   "execution_count": 2,
   "metadata": {},
   "outputs": [
    {
     "name": "stdout",
     "output_type": "stream",
     "text": [
      "W.shape (2000,)\n"
     ]
    }
   ],
   "source": [
    "n_samples = 2000 # number of observations\n",
    "n_features = 10  # number of covariates\n",
    "\n",
    "np.random.seed(1)\n",
    "W = np.random.binomial(1, scipy.special.expit(np.random.normal(0, 1, size=n_samples)))\n",
    "\n",
    "print('W.shape',W.shape)\n",
    "\n",
    "pd.DataFrame(W).to_csv('./data_for_R/Low-dim-NEW/W.csv', index=False)"
   ]
  },
  {
   "cell_type": "code",
   "execution_count": 3,
   "metadata": {},
   "outputs": [
    {
     "name": "stdout",
     "output_type": "stream",
     "text": [
      "e.shape (2000,)\n"
     ]
    }
   ],
   "source": [
    "np.random.seed(12)\n",
    "e = np.random.normal(0, 1, size=n_samples) # gaussian noise 1, used in Y\n",
    "\n",
    "print('e.shape',e.shape)"
   ]
  },
  {
   "cell_type": "code",
   "execution_count": 4,
   "metadata": {},
   "outputs": [
    {
     "name": "stdout",
     "output_type": "stream",
     "text": [
      "h.shape (2000,)\n"
     ]
    }
   ],
   "source": [
    "np.random.seed(123)\n",
    "h = np.random.normal(0, 1, size=n_samples) # gaussian noise 2, used in mu\n",
    "\n",
    "print('h.shape',h.shape)"
   ]
  },
  {
   "cell_type": "markdown",
   "metadata": {},
   "source": [
    "### no TE & no HTE"
   ]
  },
  {
   "cell_type": "code",
   "execution_count": 6,
   "metadata": {},
   "outputs": [
    {
     "name": "stdout",
     "output_type": "stream",
     "text": [
      "mu.shape (2000,)\n",
      "Y.shape (2000,)\n",
      "cor(Y,W) -0.003\n",
      "cor(mu,X) col 0 -0.02\n",
      "cor(mu,X) col 1 -0.001\n",
      "cor(mu,X) col 2 -0.016\n",
      "cor(mu,X) col 3 -0.036\n",
      "cor(mu,X) col 4 0.004\n",
      "cor(mu,X) col 5 -0.027\n",
      "cor(mu,X) col 6 0.071\n",
      "cor(mu,X) col 7 -0.022\n",
      "cor(mu,X) col 8 -0.004\n",
      "cor(mu,X) col 9 0.005\n",
      "cor(Y,X)  col 0 -0.015\n",
      "cor(Y,X)  col 1 0.01\n",
      "cor(Y,X)  col 2 -0.029\n",
      "cor(Y,X)  col 3 -0.012\n",
      "cor(Y,X)  col 4 0.0\n",
      "cor(Y,X)  col 5 -0.018\n",
      "cor(Y,X)  col 6 0.058\n",
      "cor(Y,X)  col 7 0.0\n",
      "cor(Y,X)  col 8 -0.018\n",
      "cor(Y,X)  col 9 0.007\n"
     ]
    }
   ],
   "source": [
    "np.random.seed(1234)\n",
    "X = np.random.normal(0, 1, size=(n_samples, n_features))\n",
    "\n",
    "np.random.seed(12345)\n",
    "mu = 2*h\n",
    "Y = mu + e\n",
    "\n",
    "print('mu.shape',mu.shape)\n",
    "print('Y.shape',Y.shape)\n",
    "print('cor(Y,W)',round(np.corrcoef(Y,W)[0,1], 3))\n",
    "for col in range(X.shape[1]):\n",
    "    print('cor(mu,X)','col',col,round(np.corrcoef(mu,X[:,col])[0,1], 3))\n",
    "for col in range(X.shape[1]):\n",
    "    print('cor(Y,X) ','col',col,round(np.corrcoef(Y,X[:,col])[0,1], 3))\n",
    "\n",
    "pd.DataFrame(X).to_csv('./data_for_R/Low-dim-NEW/X_noHTE.csv', index=False)    \n",
    "pd.DataFrame(Y).to_csv('./data_for_R/Low-dim-NEW/Y_noTE_noHTE.csv', index=False)"
   ]
  },
  {
   "cell_type": "markdown",
   "metadata": {},
   "source": [
    "### TE & no HTE"
   ]
  },
  {
   "cell_type": "code",
   "execution_count": 7,
   "metadata": {},
   "outputs": [
    {
     "name": "stdout",
     "output_type": "stream",
     "text": [
      "cor(mu,,W) 0.248\n",
      "cor(Y,W) 0.173\n",
      "cor(mu,X) col 0 -0.013\n",
      "cor(mu,X) col 1 0.004\n",
      "cor(mu,X) col 2 -0.02\n",
      "cor(mu,X) col 3 -0.03\n",
      "cor(mu,X) col 4 0.002\n",
      "cor(mu,X) col 5 -0.022\n",
      "cor(mu,X) col 6 0.053\n",
      "cor(mu,X) col 7 -0.022\n",
      "cor(mu,X) col 8 -0.014\n",
      "cor(mu,X) col 9 -0.008\n",
      "cor(Y,X)  col 0 -0.005\n",
      "cor(Y,X)  col 1 0.02\n",
      "cor(Y,X)  col 2 -0.038\n",
      "cor(Y,X)  col 3 0.009\n",
      "cor(Y,X)  col 4 -0.004\n",
      "cor(Y,X)  col 5 -0.007\n",
      "cor(Y,X)  col 6 0.031\n",
      "cor(Y,X)  col 7 0.014\n",
      "cor(Y,X)  col 8 -0.032\n",
      "cor(Y,X)  col 9 -0.002\n"
     ]
    }
   ],
   "source": [
    "np.random.seed(1234)\n",
    "X = np.random.normal(0, 1, size=(n_samples, n_features)) # same as above\n",
    "\n",
    "np.random.seed(12345)\n",
    "mu = W + 2*h \n",
    "mu_W = np.matmul(mu.reshape(n_samples,-1), W.reshape(-1, n_samples))\n",
    "Y = mu_W.mean(axis=1) + e\n",
    "\n",
    "print('cor(mu,,W)',round(np.corrcoef(mu,W)[0,1], 3))\n",
    "print('cor(Y,W)',round(np.corrcoef(Y,W)[0,1], 3))\n",
    "for col in range(X.shape[1]):\n",
    "    print('cor(mu,X)','col',col,round(np.corrcoef(mu,X[:,col])[0,1], 3))\n",
    "for col in range(X.shape[1]):\n",
    "    print('cor(Y,X) ','col',col,round(np.corrcoef(Y,X[:,col])[0,1], 3))\n",
    "    \n",
    "pd.DataFrame(Y).to_csv('./data_for_R/Low-dim-NEW/Y_TE_noHTE.csv', index=False)"
   ]
  },
  {
   "cell_type": "markdown",
   "metadata": {},
   "source": [
    "### TE & HTE (only protective factors)"
   ]
  },
  {
   "cell_type": "code",
   "execution_count": 22,
   "metadata": {},
   "outputs": [
    {
     "name": "stdout",
     "output_type": "stream",
     "text": [
      "cor(mu_tilde,W) 0.248\n",
      "cor(Y,W) 0.301\n",
      "cor(mu_tilde,X) col 0 0.351\n",
      "cor(mu_tilde,X) col 1 0.36\n",
      "cor(mu_tilde,X) col 2 -0.02\n",
      "cor(mu_tilde,X) col 3 -0.03\n",
      "cor(mu_tilde,X) col 4 0.002\n",
      "cor(mu_tilde,X) col 5 -0.022\n",
      "cor(mu_tilde,X) col 6 0.053\n",
      "cor(mu_tilde,X) col 7 -0.022\n",
      "cor(mu_tilde,X) col 8 -0.014\n",
      "cor(mu_tilde,X) col 9 -0.008\n",
      "cor(Y,X)  col 0 0.275\n",
      "cor(Y,X)  col 1 0.287\n",
      "cor(Y,X)  col 2 -0.021\n",
      "cor(Y,X)  col 3 0.043\n",
      "cor(Y,X)  col 4 0.011\n",
      "cor(Y,X)  col 5 0.027\n",
      "cor(Y,X)  col 6 0.051\n",
      "cor(Y,X)  col 7 0.026\n",
      "cor(Y,X)  col 8 -0.023\n",
      "cor(Y,X)  col 9 0.012\n"
     ]
    }
   ],
   "source": [
    "np.random.seed(1234)\n",
    "X = np.random.normal(0, 1, size=(n_samples, n_features)) \n",
    "\n",
    "np.random.seed(12345)\n",
    "mu = W + 2*h \n",
    "\n",
    "np.random.seed(123456)\n",
    "X[:,0] = X[:,0] + rnorm_pre(mu, mu=0, sd=1, r=0.5)\n",
    "\n",
    "np.random.seed(123456)\n",
    "X[:,1] = X[:,1] + rnorm_pre(mu, mu=0, sd=1, r=0.5)\n",
    "\n",
    "g = X.mean(axis=1)\n",
    "mu_tilde = 2*mu + g\n",
    "Y = mu_tilde*W + e\n",
    "\n",
    "print('cor(mu_tilde,W)',round(np.corrcoef(mu,W)[0,1], 3))\n",
    "print('cor(Y,W)',round(np.corrcoef(Y,W)[0,1], 3))\n",
    "for col in range(X.shape[1]):\n",
    "    print('cor(mu_tilde,X)','col',col,round(np.corrcoef(mu,X[:,col])[0,1], 3))\n",
    "for col in range(X.shape[1]):\n",
    "    print('cor(Y,X) ','col',col,round(np.corrcoef(Y,X[:,col])[0,1], 3))\n",
    "\n",
    "pd.DataFrame(X).to_csv('./data_for_R/Low-dim-NEW/X_TE_protHTE.csv', index=False)\n",
    "pd.DataFrame(Y).to_csv('./data_for_R/Low-dim-NEW/Y_TE_protHTE.csv', index=False)"
   ]
  },
  {
   "cell_type": "markdown",
   "metadata": {},
   "source": [
    "### TE & HTE (only risk factors)"
   ]
  },
  {
   "cell_type": "code",
   "execution_count": 23,
   "metadata": {},
   "outputs": [
    {
     "name": "stdout",
     "output_type": "stream",
     "text": [
      "cor(mu_tilde,W) 0.248\n",
      "cor(Y,W) 0.309\n",
      "cor(mu_tilde,X) col 0 -0.013\n",
      "cor(mu_tilde,X) col 1 0.004\n",
      "cor(mu_tilde,X) col 2 -0.376\n",
      "cor(mu_tilde,X) col 3 -0.364\n",
      "cor(mu_tilde,X) col 4 0.002\n",
      "cor(mu_tilde,X) col 5 -0.022\n",
      "cor(mu_tilde,X) col 6 0.053\n",
      "cor(mu_tilde,X) col 7 -0.022\n",
      "cor(mu_tilde,X) col 8 -0.014\n",
      "cor(mu_tilde,X) col 9 -0.008\n",
      "cor(Y,X)  col 0 -0.002\n",
      "cor(Y,X)  col 1 0.018\n",
      "cor(Y,X)  col 2 -0.257\n",
      "cor(Y,X)  col 3 -0.197\n",
      "cor(Y,X)  col 4 0.013\n",
      "cor(Y,X)  col 5 0.027\n",
      "cor(Y,X)  col 6 0.051\n",
      "cor(Y,X)  col 7 0.029\n",
      "cor(Y,X)  col 8 -0.02\n",
      "cor(Y,X)  col 9 0.015\n"
     ]
    }
   ],
   "source": [
    "np.random.seed(1234)\n",
    "X = np.random.normal(0, 1, size=(n_samples, n_features)) \n",
    "\n",
    "np.random.seed(12345)\n",
    "mu = W + 2*h \n",
    "\n",
    "np.random.seed(123456)\n",
    "X[:,2] = X[:,2] - rnorm_pre(mu, mu=0, sd=1, r=0.5)\n",
    "\n",
    "np.random.seed(123456)\n",
    "X[:,3] = X[:,3] - rnorm_pre(mu, mu=0, sd=1, r=0.5)\n",
    "\n",
    "g = X.mean(axis=1)\n",
    "mu_tilde = 2*mu + g\n",
    "Y = mu_tilde*W + e\n",
    "\n",
    "print('cor(mu_tilde,W)',round(np.corrcoef(mu,W)[0,1], 3))\n",
    "print('cor(Y,W)',round(np.corrcoef(Y,W)[0,1], 3))\n",
    "for col in range(X.shape[1]):\n",
    "    print('cor(mu_tilde,X)','col',col,round(np.corrcoef(mu,X[:,col])[0,1], 3))\n",
    "for col in range(X.shape[1]):\n",
    "    print('cor(Y,X) ','col',col,round(np.corrcoef(Y,X[:,col])[0,1], 3))\n",
    "    \n",
    "pd.DataFrame(X).to_csv('./data_for_R/Low-dim-NEW/X_TE_riskHTE.csv', index=False)    \n",
    "pd.DataFrame(Y).to_csv('./data_for_R/Low-dim-NEW/Y_TE_riskHTE.csv', index=False)"
   ]
  },
  {
   "cell_type": "markdown",
   "metadata": {},
   "source": [
    "### TE & HTE (both protective & risk factors)"
   ]
  },
  {
   "cell_type": "code",
   "execution_count": 24,
   "metadata": {},
   "outputs": [
    {
     "name": "stdout",
     "output_type": "stream",
     "text": [
      "cor(mu_tilde,W) 0.248\n",
      "cor(Y,W) 0.306\n",
      "cor(mu_tilde,X) col 0 0.351\n",
      "cor(mu_tilde,X) col 1 0.359\n",
      "cor(mu_tilde,X) col 2 -0.375\n",
      "cor(mu_tilde,X) col 3 -0.409\n",
      "cor(mu_tilde,X) col 4 0.002\n",
      "cor(mu_tilde,X) col 5 -0.022\n",
      "cor(mu_tilde,X) col 6 0.053\n",
      "cor(mu_tilde,X) col 7 -0.022\n",
      "cor(mu_tilde,X) col 8 -0.014\n",
      "cor(mu_tilde,X) col 9 -0.008\n",
      "cor(Y,X)  col 0 0.267\n",
      "cor(Y,X)  col 1 0.25\n",
      "cor(Y,X)  col 2 -0.259\n",
      "cor(Y,X)  col 3 -0.239\n",
      "cor(Y,X)  col 4 0.013\n",
      "cor(Y,X)  col 5 0.026\n",
      "cor(Y,X)  col 6 0.05\n",
      "cor(Y,X)  col 7 0.028\n",
      "cor(Y,X)  col 8 -0.022\n",
      "cor(Y,X)  col 9 0.013\n"
     ]
    }
   ],
   "source": [
    "np.random.seed(1234)\n",
    "X = np.random.normal(0, 1, size=(n_samples, n_features)) \n",
    "\n",
    "np.random.seed(12345)\n",
    "mu = W + 2*h \n",
    "\n",
    "np.random.seed(123456)\n",
    "X[:,0] = X[:,0] + rnorm_pre(mu, mu=0, sd=1, r=0.5)\n",
    "\n",
    "np.random.seed(1234567)\n",
    "X[:,1] = X[:,1] + rnorm_pre(mu, mu=0, sd=1, r=0.5)\n",
    "\n",
    "np.random.seed(12345678)\n",
    "X[:,2] = X[:,2] - rnorm_pre(mu, mu=0, sd=1, r=0.5)\n",
    "\n",
    "np.random.seed(123456789)\n",
    "X[:,3] = X[:,3] - rnorm_pre(mu, mu=0, sd=1, r=0.5)\n",
    "\n",
    "g = X.mean(axis=1)\n",
    "mu_tilde = 2*mu + g\n",
    "Y = mu_tilde*W + e\n",
    "\n",
    "print('cor(mu_tilde,W)',round(np.corrcoef(mu,W)[0,1], 3))\n",
    "print('cor(Y,W)',round(np.corrcoef(Y,W)[0,1], 3))\n",
    "for col in range(X.shape[1]):\n",
    "    print('cor(mu_tilde,X)','col',col,round(np.corrcoef(mu,X[:,col])[0,1], 3))\n",
    "for col in range(X.shape[1]):\n",
    "    print('cor(Y,X) ','col',col,round(np.corrcoef(Y,X[:,col])[0,1], 3))\n",
    "\n",
    "pd.DataFrame(X).to_csv('./data_for_R/Low-dim-NEW/X_TE_bothHTE.csv', index=False)    \n",
    "pd.DataFrame(Y).to_csv('./data_for_R/Low-dim-NEW/Y_TE_bothHTE.csv', index=False)"
   ]
  }
 ],
 "metadata": {
  "kernelspec": {
   "display_name": "Python 3",
   "language": "python",
   "name": "python3"
  },
  "language_info": {
   "codemirror_mode": {
    "name": "ipython",
    "version": 3
   },
   "file_extension": ".py",
   "mimetype": "text/x-python",
   "name": "python",
   "nbconvert_exporter": "python",
   "pygments_lexer": "ipython3",
   "version": "3.7.4"
  }
 },
 "nbformat": 4,
 "nbformat_minor": 2
}
